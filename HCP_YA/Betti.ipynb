{
 "cells": [
  {
   "cell_type": "code",
   "execution_count": 1,
   "metadata": {},
   "outputs": [],
   "source": [
    "import gudhi as gd # version 3.3.0\n",
    "from gudhi.representations import Landscape # version 3.3.0\n",
    "from gudhi.representations import BettiCurve # version 3.3.0\n",
    "from gudhi.representations import TopologicalVector # version 3.3.0\n",
    "from gudhi.representations import Entropy\n",
    "import pandas as pd\n",
    "import numpy as np\n",
    "import matplotlib.pyplot as plt\n",
    "def calculate_persistence(matrix,nr_dimensions):\n",
    "    \"\"\" Performs filtration (persistent homology) process \n",
    "    \n",
    "    \n",
    "    Parameters\n",
    "    ----------\n",
    "    matrix: connectivity matrix as numpy array\n",
    "        \n",
    "    \n",
    "    Returns\n",
    "    -------\n",
    "    pers: persistence of simplicial complex. \n",
    "          Type:list of pairs(dimension, pair(birth, death))\n",
    "    simplex_tree: data structure for representing simplicial complexes\n",
    "        \n",
    "        \n",
    "    \"\"\"\n",
    "    rips_complex = gd.RipsComplex(distance_matrix=matrix, max_edge_length=1)\n",
    "    simplex_tree = rips_complex.create_simplex_tree(max_dimension=nr_dimensions)\n",
    "    pers = simplex_tree.persistence()\n",
    "\n",
    "    return pers, simplex_tree\n",
    "\n",
    "\n",
    "def persistence_per_dim(simplex_tree, nr_dimensions):\n",
    "    \"\"\" Performs filtration (persistent homology) process per dimension\n",
    "    \n",
    "    \n",
    "    Parameters\n",
    "    ----------\n",
    "    simplex_tree: data structure for representing simplicial complexes\n",
    "    nr_dimension: parameter which specifies the number of dimensions to \n",
    "        investigate. E.g. 1, 2 or 3. \n",
    "    \n",
    "        \n",
    "    Returns\n",
    "    -------\n",
    "    pers_per_dim: persistence of simplicial complex per dimension. E.g., if \n",
    "        3 dimensions: list of 3 lists of pairs(dimension, pair(birth, death))\n",
    "    \n",
    "    \n",
    "    Notes\n",
    "    -------\n",
    "    Infinite values likely exist in the filtration process, because some \n",
    "    structures never cease existing. This leads to problems for computing \n",
    "    TDA metrics per dimension. Therefore, infinite values are substituted\n",
    "    for the maximum finite values for other structures in the persistence\n",
    "    in the same dimension. \n",
    "    \n",
    "        \n",
    "    \"\"\"\n",
    "\n",
    "    pers_per_dim = []\n",
    "\n",
    "    for dimension in range(nr_dimensions):\n",
    "        pers = simplex_tree.persistence_intervals_in_dimension(dimension)\n",
    "\n",
    "        # The code below replaces any infinite values with the maximum value\n",
    "        # from the persistence in dimension 0.\n",
    "\n",
    "        # Find the maximum value which is not infinite\n",
    "        if dimension == 0:\n",
    "            pers = np.where(np.isinf(pers), -1, pers)\n",
    "            max_val_dim0 = np.max(pers)\n",
    "\n",
    "        # If non-empty array: replace infinite with maximum value\n",
    "        if pers.shape != (0,):\n",
    "            pers = np.where(np.isinf(pers), -1, pers)\n",
    "            pers = np.where(pers == -1, max_val_dim0, pers)\n",
    "            pers_per_dim.append(pers)\n",
    "\n",
    "        # if no topological structures present, append empty array to prevent error\n",
    "        else:\n",
    "            pers_per_dim.append(np.zeros([0, 2]))\n",
    "\n",
    "    return pers_per_dim\n",
    "\n",
    "\n",
    "def calculate_betti_curves(pers_per_dim,resolution):\n",
    "    \"\"\" Calculates Betti curves per dimension\n",
    "\n",
    "    \n",
    "    Parameters\n",
    "    ----------\n",
    "    pers_per_dim: list of persistence per dimension\n",
    "        \n",
    "    \n",
    "    Returns\n",
    "    -------\n",
    "    betti_curves: list of Betti curves per dimension\n",
    "         \n",
    "        \n",
    "    \"\"\"\n",
    "\n",
    "    betti_curves = BettiCurve(resolution=resolution,\n",
    "                              sample_range=[0, 1]).transform(pers_per_dim)\n",
    "\n",
    "    return betti_curves\n",
    "\n",
    "\n",
    "def betti(matrix,nr_dimensions,resolution):\n",
    "    \"input: a distance matrix\"\n",
    "    \"output: Betti curves up to a given number\"\n",
    "    pers, simplex_tree = calculate_persistence(matrix,nr_dimensions)\n",
    "    pers_per_dim = persistence_per_dim(simplex_tree, nr_dimensions)\n",
    "    bc=calculate_betti_curves(pers_per_dim,resolution)\n",
    "    return bc\n",
    "    "
   ]
  },
  {
   "cell_type": "code",
   "execution_count": 2,
   "metadata": {},
   "outputs": [],
   "source": [
    "rm=np.random.random((100, 100))"
   ]
  },
  {
   "cell_type": "code",
   "execution_count": 6,
   "metadata": {},
   "outputs": [],
   "source": [
    "b_0,b_1,b_2=betti(rm,3,100)"
   ]
  },
  {
   "cell_type": "code",
   "execution_count": 7,
   "metadata": {},
   "outputs": [
    {
     "data": {
      "image/png": "[encoded data removed]",
      "text/plain": [
       "<Figure size 432x288 with 1 Axes>"
      ]
     },
     "metadata": {
      "needs_background": "light"
     },
     "output_type": "display_data"
    }
   ],
   "source": [
    "plt.plot(b_0)\n",
    "plt.plot(b_1)\n",
    "plt.plot(b_2)\n",
    "plt.ylabel('Betti_k')\n",
    "plt.xlabel('filtration')\n",
    "plt.show()"
   ]
  }
 ],
 "metadata": {
  "kernelspec": {
   "display_name": "Python 3",
   "language": "python",
   "name": "python3"
  },
  "language_info": {
   "codemirror_mode": {
    "name": "ipython",
    "version": 3
   },
   "file_extension": ".py",
   "mimetype": "text/x-python",
   "name": "python",
   "nbconvert_exporter": "python",
   "pygments_lexer": "ipython3",
   "version": "3.8.5"
  }
 },
 "nbformat": 4,
 "nbformat_minor": 4
}
