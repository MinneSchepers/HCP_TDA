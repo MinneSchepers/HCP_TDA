{
 "cells": [
  {
   "cell_type": "markdown",
   "metadata": {},
   "source": [
    "# Jupyter Notebook by Minne Schepers/Edited and adapted by F. Santos\n",
    "\n",
    "## Output: splitting the data into males and females, and into training and test group\n"
   ]
  },
  {
   "cell_type": "code",
   "execution_count": 134,
   "metadata": {},
   "outputs": [],
   "source": [
    "import pandas as pd\n",
    "import matplotlib.pyplot as plt\n",
    "import seaborn as sns\n",
    "import numpy as np\n",
    "from sklearn.model_selection import train_test_split\n",
    "from scipy import stats\n",
    "import pickle"
   ]
  },
  {
   "cell_type": "code",
   "execution_count": 123,
   "metadata": {},
   "outputs": [
    {
     "name": "stdout",
     "output_type": "stream",
     "text": [
      "Annotated_Data.xlsx           Organizing_Annot_Data.ipynb\r\n",
      "\u001b[34mHCP_AAL_Young_Adult\u001b[m\u001b[m/          README.md\r\n",
      "IDsfMRI.txt                   Split_HCP_data_Females.ipynb\r\n",
      "Males_test.csv                Split_HCP_data_Males.ipynb\r\n",
      "Males_train.csv\r\n"
     ]
    }
   ],
   "source": [
    "ls"
   ]
  },
  {
   "cell_type": "code",
   "execution_count": 3,
   "metadata": {
    "scrolled": false
   },
   "outputs": [],
   "source": [
    "#Reading HCP DATA\n",
    "df = pd.read_excel('Annotated_Data.xlsx')"
   ]
  },
  {
   "cell_type": "code",
   "execution_count": 279,
   "metadata": {},
   "outputs": [],
   "source": [
    "#READING INDEX for fMRI\n",
    "open_file = open('IDsfMRI.txt', \"rb\")\n",
    "loaded_IDs = pickle.load(open_file)\n",
    "open_file.close()\n",
    "#.isin(loaded_IDs)"
   ]
  },
  {
   "cell_type": "code",
   "execution_count": 146,
   "metadata": {},
   "outputs": [],
   "source": [
    "# Converting to int\n",
    "fMRI_IDs=[int(i) for i in loaded_IDs]"
   ]
  },
  {
   "cell_type": "code",
   "execution_count": 152,
   "metadata": {},
   "outputs": [],
   "source": [
    "# Selecting only the ones that we have IDs\n",
    "fMRI_df=df[df['Subject'].isin(fMRI_IDs)==True]"
   ]
  },
  {
   "cell_type": "code",
   "execution_count": 280,
   "metadata": {},
   "outputs": [
    {
     "data": {
      "text/html": [
       "<div>\n",
       "<style scoped>\n",
       "    .dataframe tbody tr th:only-of-type {\n",
       "        vertical-align: middle;\n",
       "    }\n",
       "\n",
       "    .dataframe tbody tr th {\n",
       "        vertical-align: top;\n",
       "    }\n",
       "\n",
       "    .dataframe thead th {\n",
       "        text-align: right;\n",
       "    }\n",
       "</style>\n",
       "<table border=\"1\" class=\"dataframe\">\n",
       "  <thead>\n",
       "    <tr style=\"text-align: right;\">\n",
       "      <th></th>\n",
       "      <th>Subject</th>\n",
       "      <th>Release</th>\n",
       "      <th>Acquisition</th>\n",
       "      <th>Gender</th>\n",
       "      <th>Age</th>\n",
       "      <th>3T_Full_MR_Compl</th>\n",
       "      <th>T1_Count</th>\n",
       "      <th>T2_Count</th>\n",
       "      <th>3T_RS-fMRI_Count</th>\n",
       "      <th>3T_RS-fMRI_PctCompl</th>\n",
       "      <th>...</th>\n",
       "      <th>Noise_Comp</th>\n",
       "      <th>Odor_Unadj</th>\n",
       "      <th>Odor_AgeAdj</th>\n",
       "      <th>PainIntens_RawScore</th>\n",
       "      <th>PainInterf_Tscore</th>\n",
       "      <th>Taste_Unadj</th>\n",
       "      <th>Taste_AgeAdj</th>\n",
       "      <th>Mars_Log_Score</th>\n",
       "      <th>Mars_Errs</th>\n",
       "      <th>Mars_Final</th>\n",
       "    </tr>\n",
       "  </thead>\n",
       "  <tbody>\n",
       "    <tr>\n",
       "      <th>1</th>\n",
       "      <td>100206</td>\n",
       "      <td>S900</td>\n",
       "      <td>Q11</td>\n",
       "      <td>M</td>\n",
       "      <td>26-30</td>\n",
       "      <td>True</td>\n",
       "      <td>1</td>\n",
       "      <td>1</td>\n",
       "      <td>4</td>\n",
       "      <td>100.0</td>\n",
       "      <td>...</td>\n",
       "      <td>6.0</td>\n",
       "      <td>108.79</td>\n",
       "      <td>97.19</td>\n",
       "      <td>1.0</td>\n",
       "      <td>49.7</td>\n",
       "      <td>72.63</td>\n",
       "      <td>72.03</td>\n",
       "      <td>1.84</td>\n",
       "      <td>0.0</td>\n",
       "      <td>1.84</td>\n",
       "    </tr>\n",
       "    <tr>\n",
       "      <th>2</th>\n",
       "      <td>100307</td>\n",
       "      <td>Q1</td>\n",
       "      <td>Q01</td>\n",
       "      <td>F</td>\n",
       "      <td>26-30</td>\n",
       "      <td>True</td>\n",
       "      <td>1</td>\n",
       "      <td>1</td>\n",
       "      <td>4</td>\n",
       "      <td>100.0</td>\n",
       "      <td>...</td>\n",
       "      <td>3.6</td>\n",
       "      <td>101.12</td>\n",
       "      <td>86.45</td>\n",
       "      <td>0.0</td>\n",
       "      <td>38.6</td>\n",
       "      <td>71.69</td>\n",
       "      <td>71.76</td>\n",
       "      <td>1.76</td>\n",
       "      <td>0.0</td>\n",
       "      <td>1.76</td>\n",
       "    </tr>\n",
       "    <tr>\n",
       "      <th>3</th>\n",
       "      <td>100408</td>\n",
       "      <td>Q3</td>\n",
       "      <td>Q03</td>\n",
       "      <td>M</td>\n",
       "      <td>31-35</td>\n",
       "      <td>True</td>\n",
       "      <td>1</td>\n",
       "      <td>1</td>\n",
       "      <td>4</td>\n",
       "      <td>100.0</td>\n",
       "      <td>...</td>\n",
       "      <td>2.0</td>\n",
       "      <td>108.79</td>\n",
       "      <td>98.04</td>\n",
       "      <td>2.0</td>\n",
       "      <td>52.6</td>\n",
       "      <td>114.01</td>\n",
       "      <td>113.59</td>\n",
       "      <td>1.76</td>\n",
       "      <td>2.0</td>\n",
       "      <td>1.68</td>\n",
       "    </tr>\n",
       "    <tr>\n",
       "      <th>4</th>\n",
       "      <td>100610</td>\n",
       "      <td>S900</td>\n",
       "      <td>Q08</td>\n",
       "      <td>M</td>\n",
       "      <td>26-30</td>\n",
       "      <td>True</td>\n",
       "      <td>2</td>\n",
       "      <td>1</td>\n",
       "      <td>4</td>\n",
       "      <td>100.0</td>\n",
       "      <td>...</td>\n",
       "      <td>2.0</td>\n",
       "      <td>122.25</td>\n",
       "      <td>110.45</td>\n",
       "      <td>0.0</td>\n",
       "      <td>38.6</td>\n",
       "      <td>84.84</td>\n",
       "      <td>85.31</td>\n",
       "      <td>1.92</td>\n",
       "      <td>1.0</td>\n",
       "      <td>1.88</td>\n",
       "    </tr>\n",
       "    <tr>\n",
       "      <th>5</th>\n",
       "      <td>101006</td>\n",
       "      <td>S500</td>\n",
       "      <td>Q06</td>\n",
       "      <td>F</td>\n",
       "      <td>31-35</td>\n",
       "      <td>True</td>\n",
       "      <td>2</td>\n",
       "      <td>2</td>\n",
       "      <td>4</td>\n",
       "      <td>100.0</td>\n",
       "      <td>...</td>\n",
       "      <td>6.0</td>\n",
       "      <td>122.25</td>\n",
       "      <td>111.41</td>\n",
       "      <td>0.0</td>\n",
       "      <td>38.6</td>\n",
       "      <td>123.80</td>\n",
       "      <td>123.31</td>\n",
       "      <td>1.80</td>\n",
       "      <td>0.0</td>\n",
       "      <td>1.80</td>\n",
       "    </tr>\n",
       "    <tr>\n",
       "      <th>...</th>\n",
       "      <td>...</td>\n",
       "      <td>...</td>\n",
       "      <td>...</td>\n",
       "      <td>...</td>\n",
       "      <td>...</td>\n",
       "      <td>...</td>\n",
       "      <td>...</td>\n",
       "      <td>...</td>\n",
       "      <td>...</td>\n",
       "      <td>...</td>\n",
       "      <td>...</td>\n",
       "      <td>...</td>\n",
       "      <td>...</td>\n",
       "      <td>...</td>\n",
       "      <td>...</td>\n",
       "      <td>...</td>\n",
       "      <td>...</td>\n",
       "      <td>...</td>\n",
       "      <td>...</td>\n",
       "      <td>...</td>\n",
       "      <td>...</td>\n",
       "    </tr>\n",
       "    <tr>\n",
       "      <th>1200</th>\n",
       "      <td>992673</td>\n",
       "      <td>S900</td>\n",
       "      <td>Q12</td>\n",
       "      <td>F</td>\n",
       "      <td>31-35</td>\n",
       "      <td>True</td>\n",
       "      <td>1</td>\n",
       "      <td>2</td>\n",
       "      <td>4</td>\n",
       "      <td>100.0</td>\n",
       "      <td>...</td>\n",
       "      <td>3.6</td>\n",
       "      <td>122.25</td>\n",
       "      <td>111.41</td>\n",
       "      <td>1.0</td>\n",
       "      <td>38.6</td>\n",
       "      <td>101.63</td>\n",
       "      <td>99.26</td>\n",
       "      <td>1.80</td>\n",
       "      <td>0.0</td>\n",
       "      <td>1.80</td>\n",
       "    </tr>\n",
       "    <tr>\n",
       "      <th>1201</th>\n",
       "      <td>992774</td>\n",
       "      <td>Q2</td>\n",
       "      <td>Q02</td>\n",
       "      <td>M</td>\n",
       "      <td>31-35</td>\n",
       "      <td>True</td>\n",
       "      <td>2</td>\n",
       "      <td>2</td>\n",
       "      <td>4</td>\n",
       "      <td>100.0</td>\n",
       "      <td>...</td>\n",
       "      <td>8.4</td>\n",
       "      <td>122.25</td>\n",
       "      <td>111.41</td>\n",
       "      <td>4.0</td>\n",
       "      <td>50.1</td>\n",
       "      <td>107.17</td>\n",
       "      <td>103.55</td>\n",
       "      <td>1.76</td>\n",
       "      <td>0.0</td>\n",
       "      <td>1.76</td>\n",
       "    </tr>\n",
       "    <tr>\n",
       "      <th>1202</th>\n",
       "      <td>993675</td>\n",
       "      <td>S900</td>\n",
       "      <td>Q09</td>\n",
       "      <td>F</td>\n",
       "      <td>26-30</td>\n",
       "      <td>True</td>\n",
       "      <td>2</td>\n",
       "      <td>2</td>\n",
       "      <td>4</td>\n",
       "      <td>100.0</td>\n",
       "      <td>...</td>\n",
       "      <td>0.4</td>\n",
       "      <td>122.25</td>\n",
       "      <td>110.45</td>\n",
       "      <td>0.0</td>\n",
       "      <td>38.6</td>\n",
       "      <td>84.07</td>\n",
       "      <td>84.25</td>\n",
       "      <td>1.80</td>\n",
       "      <td>1.0</td>\n",
       "      <td>1.76</td>\n",
       "    </tr>\n",
       "    <tr>\n",
       "      <th>1203</th>\n",
       "      <td>994273</td>\n",
       "      <td>S500</td>\n",
       "      <td>Q06</td>\n",
       "      <td>M</td>\n",
       "      <td>26-30</td>\n",
       "      <td>True</td>\n",
       "      <td>1</td>\n",
       "      <td>1</td>\n",
       "      <td>4</td>\n",
       "      <td>100.0</td>\n",
       "      <td>...</td>\n",
       "      <td>6.0</td>\n",
       "      <td>122.25</td>\n",
       "      <td>111.41</td>\n",
       "      <td>7.0</td>\n",
       "      <td>63.8</td>\n",
       "      <td>110.65</td>\n",
       "      <td>109.73</td>\n",
       "      <td>1.80</td>\n",
       "      <td>1.0</td>\n",
       "      <td>1.76</td>\n",
       "    </tr>\n",
       "    <tr>\n",
       "      <th>1205</th>\n",
       "      <td>996782</td>\n",
       "      <td>S900</td>\n",
       "      <td>Q08</td>\n",
       "      <td>F</td>\n",
       "      <td>26-30</td>\n",
       "      <td>True</td>\n",
       "      <td>2</td>\n",
       "      <td>2</td>\n",
       "      <td>4</td>\n",
       "      <td>100.0</td>\n",
       "      <td>...</td>\n",
       "      <td>6.0</td>\n",
       "      <td>108.79</td>\n",
       "      <td>97.19</td>\n",
       "      <td>0.0</td>\n",
       "      <td>38.6</td>\n",
       "      <td>75.43</td>\n",
       "      <td>73.72</td>\n",
       "      <td>1.84</td>\n",
       "      <td>0.0</td>\n",
       "      <td>1.84</td>\n",
       "    </tr>\n",
       "  </tbody>\n",
       "</table>\n",
       "<p>998 rows × 582 columns</p>\n",
       "</div>"
      ],
      "text/plain": [
       "      Subject Release Acquisition Gender    Age  3T_Full_MR_Compl  T1_Count  \\\n",
       "1      100206    S900         Q11      M  26-30              True         1   \n",
       "2      100307      Q1         Q01      F  26-30              True         1   \n",
       "3      100408      Q3         Q03      M  31-35              True         1   \n",
       "4      100610    S900         Q08      M  26-30              True         2   \n",
       "5      101006    S500         Q06      F  31-35              True         2   \n",
       "...       ...     ...         ...    ...    ...               ...       ...   \n",
       "1200   992673    S900         Q12      F  31-35              True         1   \n",
       "1201   992774      Q2         Q02      M  31-35              True         2   \n",
       "1202   993675    S900         Q09      F  26-30              True         2   \n",
       "1203   994273    S500         Q06      M  26-30              True         1   \n",
       "1205   996782    S900         Q08      F  26-30              True         2   \n",
       "\n",
       "      T2_Count  3T_RS-fMRI_Count  3T_RS-fMRI_PctCompl  ...  Noise_Comp  \\\n",
       "1            1                 4                100.0  ...         6.0   \n",
       "2            1                 4                100.0  ...         3.6   \n",
       "3            1                 4                100.0  ...         2.0   \n",
       "4            1                 4                100.0  ...         2.0   \n",
       "5            2                 4                100.0  ...         6.0   \n",
       "...        ...               ...                  ...  ...         ...   \n",
       "1200         2                 4                100.0  ...         3.6   \n",
       "1201         2                 4                100.0  ...         8.4   \n",
       "1202         2                 4                100.0  ...         0.4   \n",
       "1203         1                 4                100.0  ...         6.0   \n",
       "1205         2                 4                100.0  ...         6.0   \n",
       "\n",
       "      Odor_Unadj  Odor_AgeAdj  PainIntens_RawScore  PainInterf_Tscore  \\\n",
       "1         108.79        97.19                  1.0               49.7   \n",
       "2         101.12        86.45                  0.0               38.6   \n",
       "3         108.79        98.04                  2.0               52.6   \n",
       "4         122.25       110.45                  0.0               38.6   \n",
       "5         122.25       111.41                  0.0               38.6   \n",
       "...          ...          ...                  ...                ...   \n",
       "1200      122.25       111.41                  1.0               38.6   \n",
       "1201      122.25       111.41                  4.0               50.1   \n",
       "1202      122.25       110.45                  0.0               38.6   \n",
       "1203      122.25       111.41                  7.0               63.8   \n",
       "1205      108.79        97.19                  0.0               38.6   \n",
       "\n",
       "      Taste_Unadj  Taste_AgeAdj  Mars_Log_Score  Mars_Errs  Mars_Final  \n",
       "1           72.63         72.03            1.84        0.0        1.84  \n",
       "2           71.69         71.76            1.76        0.0        1.76  \n",
       "3          114.01        113.59            1.76        2.0        1.68  \n",
       "4           84.84         85.31            1.92        1.0        1.88  \n",
       "5          123.80        123.31            1.80        0.0        1.80  \n",
       "...           ...           ...             ...        ...         ...  \n",
       "1200       101.63         99.26            1.80        0.0        1.80  \n",
       "1201       107.17        103.55            1.76        0.0        1.76  \n",
       "1202        84.07         84.25            1.80        1.0        1.76  \n",
       "1203       110.65        109.73            1.80        1.0        1.76  \n",
       "1205        75.43         73.72            1.84        0.0        1.84  \n",
       "\n",
       "[998 rows x 582 columns]"
      ]
     },
     "execution_count": 280,
     "metadata": {},
     "output_type": "execute_result"
    }
   ],
   "source": [
    "# Finally the Dataframe with all 998 individuals\n",
    "fMRI_df"
   ]
  },
  {
   "cell_type": "markdown",
   "metadata": {},
   "source": [
    "Split the DataFrame into males and females"
   ]
  },
  {
   "cell_type": "code",
   "execution_count": 282,
   "metadata": {},
   "outputs": [
    {
     "data": {
      "text/plain": [
       "(998, 582)"
      ]
     },
     "execution_count": 282,
     "metadata": {},
     "output_type": "execute_result"
    }
   ],
   "source": [
    "# We have 582 features for 998 people!!!\n",
    "fMRI_df.shape"
   ]
  },
  {
   "cell_type": "code",
   "execution_count": 283,
   "metadata": {},
   "outputs": [],
   "source": [
    "# Education is restricted for HCP Young Adult :-()\n",
    "#df['SSAGA_Educ']"
   ]
  },
  {
   "cell_type": "code",
   "execution_count": 158,
   "metadata": {},
   "outputs": [
    {
     "name": "stdout",
     "output_type": "stream",
     "text": [
      "(466, 583)\n",
      "(532, 583)\n"
     ]
    }
   ],
   "source": [
    "males = fMRI_df[fMRI_df['Gender']=='M']\n",
    "males = males.reset_index()\n",
    "females = fMRI_df[fMRI_df['Gender']=='F']\n",
    "females = females.reset_index()\n",
    "print(males.shape)\n",
    "print(females.shape)"
   ]
  },
  {
   "cell_type": "markdown",
   "metadata": {},
   "source": [
    "# Males"
   ]
  },
  {
   "cell_type": "markdown",
   "metadata": {},
   "source": [
    "Number of rows per column in males:"
   ]
  },
  {
   "cell_type": "code",
   "execution_count": 159,
   "metadata": {
    "scrolled": false
   },
   "outputs": [
    {
     "data": {
      "text/plain": [
       "index             466\n",
       "Subject           466\n",
       "Release           466\n",
       "Acquisition       466\n",
       "Gender            466\n",
       "                 ... \n",
       "Taste_Unadj       466\n",
       "Taste_AgeAdj      466\n",
       "Mars_Log_Score    466\n",
       "Mars_Errs         465\n",
       "Mars_Final        465\n",
       "Length: 583, dtype: int64"
      ]
     },
     "execution_count": 159,
     "metadata": {},
     "output_type": "execute_result"
    }
   ],
   "source": [
    "males.notnull().sum()"
   ]
  },
  {
   "cell_type": "code",
   "execution_count": 22,
   "metadata": {
    "scrolled": true
   },
   "outputs": [],
   "source": [
    "# Education is restricted for HCP Young Adult\n",
    "#males['years_of_education'].hist()"
   ]
  },
  {
   "cell_type": "code",
   "execution_count": 286,
   "metadata": {},
   "outputs": [],
   "source": [
    "#Age_in_Yrs is also restricted\n",
    "#males['Age'].hist()"
   ]
  },
  {
   "cell_type": "markdown",
   "metadata": {},
   "source": [
    "Show correlation values between cognitive scores in males and age/education/moca scores"
   ]
  },
  {
   "cell_type": "code",
   "execution_count": 161,
   "metadata": {},
   "outputs": [],
   "source": [
    "all_columns = males.columns\n",
    "age_columns = [i for i in all_columns if 'Age' in i]\n",
    "standard_columns = ['Subject', 'Gender', 'Age']"
   ]
  },
  {
   "cell_type": "code",
   "execution_count": 162,
   "metadata": {},
   "outputs": [
    {
     "data": {
      "text/html": [
       "<div>\n",
       "<style scoped>\n",
       "    .dataframe tbody tr th:only-of-type {\n",
       "        vertical-align: middle;\n",
       "    }\n",
       "\n",
       "    .dataframe tbody tr th {\n",
       "        vertical-align: top;\n",
       "    }\n",
       "\n",
       "    .dataframe thead th {\n",
       "        text-align: right;\n",
       "    }\n",
       "</style>\n",
       "<table border=\"1\" class=\"dataframe\">\n",
       "  <thead>\n",
       "    <tr style=\"text-align: right;\">\n",
       "      <th></th>\n",
       "      <th>index</th>\n",
       "      <th>Subject</th>\n",
       "      <th>Release</th>\n",
       "      <th>Acquisition</th>\n",
       "      <th>Gender</th>\n",
       "      <th>Age</th>\n",
       "      <th>3T_Full_MR_Compl</th>\n",
       "      <th>T1_Count</th>\n",
       "      <th>T2_Count</th>\n",
       "      <th>3T_RS-fMRI_Count</th>\n",
       "      <th>...</th>\n",
       "      <th>Noise_Comp</th>\n",
       "      <th>Odor_Unadj</th>\n",
       "      <th>Odor_AgeAdj</th>\n",
       "      <th>PainIntens_RawScore</th>\n",
       "      <th>PainInterf_Tscore</th>\n",
       "      <th>Taste_Unadj</th>\n",
       "      <th>Taste_AgeAdj</th>\n",
       "      <th>Mars_Log_Score</th>\n",
       "      <th>Mars_Errs</th>\n",
       "      <th>Mars_Final</th>\n",
       "    </tr>\n",
       "  </thead>\n",
       "  <tbody>\n",
       "    <tr>\n",
       "      <th>0</th>\n",
       "      <td>1</td>\n",
       "      <td>100206</td>\n",
       "      <td>S900</td>\n",
       "      <td>Q11</td>\n",
       "      <td>M</td>\n",
       "      <td>26-30</td>\n",
       "      <td>True</td>\n",
       "      <td>1</td>\n",
       "      <td>1</td>\n",
       "      <td>4</td>\n",
       "      <td>...</td>\n",
       "      <td>6.0</td>\n",
       "      <td>108.79</td>\n",
       "      <td>97.19</td>\n",
       "      <td>1.0</td>\n",
       "      <td>49.7</td>\n",
       "      <td>72.63</td>\n",
       "      <td>72.03</td>\n",
       "      <td>1.84</td>\n",
       "      <td>0.0</td>\n",
       "      <td>1.84</td>\n",
       "    </tr>\n",
       "    <tr>\n",
       "      <th>1</th>\n",
       "      <td>3</td>\n",
       "      <td>100408</td>\n",
       "      <td>Q3</td>\n",
       "      <td>Q03</td>\n",
       "      <td>M</td>\n",
       "      <td>31-35</td>\n",
       "      <td>True</td>\n",
       "      <td>1</td>\n",
       "      <td>1</td>\n",
       "      <td>4</td>\n",
       "      <td>...</td>\n",
       "      <td>2.0</td>\n",
       "      <td>108.79</td>\n",
       "      <td>98.04</td>\n",
       "      <td>2.0</td>\n",
       "      <td>52.6</td>\n",
       "      <td>114.01</td>\n",
       "      <td>113.59</td>\n",
       "      <td>1.76</td>\n",
       "      <td>2.0</td>\n",
       "      <td>1.68</td>\n",
       "    </tr>\n",
       "    <tr>\n",
       "      <th>2</th>\n",
       "      <td>4</td>\n",
       "      <td>100610</td>\n",
       "      <td>S900</td>\n",
       "      <td>Q08</td>\n",
       "      <td>M</td>\n",
       "      <td>26-30</td>\n",
       "      <td>True</td>\n",
       "      <td>2</td>\n",
       "      <td>1</td>\n",
       "      <td>4</td>\n",
       "      <td>...</td>\n",
       "      <td>2.0</td>\n",
       "      <td>122.25</td>\n",
       "      <td>110.45</td>\n",
       "      <td>0.0</td>\n",
       "      <td>38.6</td>\n",
       "      <td>84.84</td>\n",
       "      <td>85.31</td>\n",
       "      <td>1.92</td>\n",
       "      <td>1.0</td>\n",
       "      <td>1.88</td>\n",
       "    </tr>\n",
       "    <tr>\n",
       "      <th>3</th>\n",
       "      <td>6</td>\n",
       "      <td>101107</td>\n",
       "      <td>S500</td>\n",
       "      <td>Q06</td>\n",
       "      <td>M</td>\n",
       "      <td>22-25</td>\n",
       "      <td>True</td>\n",
       "      <td>2</td>\n",
       "      <td>2</td>\n",
       "      <td>4</td>\n",
       "      <td>...</td>\n",
       "      <td>6.8</td>\n",
       "      <td>108.79</td>\n",
       "      <td>97.19</td>\n",
       "      <td>1.0</td>\n",
       "      <td>50.1</td>\n",
       "      <td>134.65</td>\n",
       "      <td>131.38</td>\n",
       "      <td>1.84</td>\n",
       "      <td>0.0</td>\n",
       "      <td>1.84</td>\n",
       "    </tr>\n",
       "    <tr>\n",
       "      <th>4</th>\n",
       "      <td>8</td>\n",
       "      <td>101309</td>\n",
       "      <td>S500</td>\n",
       "      <td>Q06</td>\n",
       "      <td>M</td>\n",
       "      <td>26-30</td>\n",
       "      <td>True</td>\n",
       "      <td>1</td>\n",
       "      <td>1</td>\n",
       "      <td>4</td>\n",
       "      <td>...</td>\n",
       "      <td>5.2</td>\n",
       "      <td>122.25</td>\n",
       "      <td>110.45</td>\n",
       "      <td>0.0</td>\n",
       "      <td>38.6</td>\n",
       "      <td>106.39</td>\n",
       "      <td>104.39</td>\n",
       "      <td>1.80</td>\n",
       "      <td>0.0</td>\n",
       "      <td>1.80</td>\n",
       "    </tr>\n",
       "    <tr>\n",
       "      <th>...</th>\n",
       "      <td>...</td>\n",
       "      <td>...</td>\n",
       "      <td>...</td>\n",
       "      <td>...</td>\n",
       "      <td>...</td>\n",
       "      <td>...</td>\n",
       "      <td>...</td>\n",
       "      <td>...</td>\n",
       "      <td>...</td>\n",
       "      <td>...</td>\n",
       "      <td>...</td>\n",
       "      <td>...</td>\n",
       "      <td>...</td>\n",
       "      <td>...</td>\n",
       "      <td>...</td>\n",
       "      <td>...</td>\n",
       "      <td>...</td>\n",
       "      <td>...</td>\n",
       "      <td>...</td>\n",
       "      <td>...</td>\n",
       "      <td>...</td>\n",
       "    </tr>\n",
       "    <tr>\n",
       "      <th>461</th>\n",
       "      <td>1197</td>\n",
       "      <td>989987</td>\n",
       "      <td>S1200</td>\n",
       "      <td>Q13</td>\n",
       "      <td>M</td>\n",
       "      <td>31-35</td>\n",
       "      <td>True</td>\n",
       "      <td>2</td>\n",
       "      <td>2</td>\n",
       "      <td>4</td>\n",
       "      <td>...</td>\n",
       "      <td>2.0</td>\n",
       "      <td>101.12</td>\n",
       "      <td>87.11</td>\n",
       "      <td>4.0</td>\n",
       "      <td>52.6</td>\n",
       "      <td>98.31</td>\n",
       "      <td>97.68</td>\n",
       "      <td>1.80</td>\n",
       "      <td>0.0</td>\n",
       "      <td>1.80</td>\n",
       "    </tr>\n",
       "    <tr>\n",
       "      <th>462</th>\n",
       "      <td>1198</td>\n",
       "      <td>990366</td>\n",
       "      <td>S900</td>\n",
       "      <td>Q10</td>\n",
       "      <td>M</td>\n",
       "      <td>22-25</td>\n",
       "      <td>True</td>\n",
       "      <td>2</td>\n",
       "      <td>1</td>\n",
       "      <td>4</td>\n",
       "      <td>...</td>\n",
       "      <td>4.4</td>\n",
       "      <td>108.79</td>\n",
       "      <td>97.19</td>\n",
       "      <td>1.0</td>\n",
       "      <td>52.6</td>\n",
       "      <td>93.82</td>\n",
       "      <td>92.63</td>\n",
       "      <td>1.80</td>\n",
       "      <td>0.0</td>\n",
       "      <td>1.80</td>\n",
       "    </tr>\n",
       "    <tr>\n",
       "      <th>463</th>\n",
       "      <td>1199</td>\n",
       "      <td>991267</td>\n",
       "      <td>S500</td>\n",
       "      <td>Q06</td>\n",
       "      <td>M</td>\n",
       "      <td>26-30</td>\n",
       "      <td>True</td>\n",
       "      <td>2</td>\n",
       "      <td>1</td>\n",
       "      <td>4</td>\n",
       "      <td>...</td>\n",
       "      <td>2.8</td>\n",
       "      <td>122.25</td>\n",
       "      <td>111.41</td>\n",
       "      <td>1.0</td>\n",
       "      <td>46.6</td>\n",
       "      <td>83.23</td>\n",
       "      <td>81.55</td>\n",
       "      <td>1.84</td>\n",
       "      <td>0.0</td>\n",
       "      <td>1.84</td>\n",
       "    </tr>\n",
       "    <tr>\n",
       "      <th>464</th>\n",
       "      <td>1201</td>\n",
       "      <td>992774</td>\n",
       "      <td>Q2</td>\n",
       "      <td>Q02</td>\n",
       "      <td>M</td>\n",
       "      <td>31-35</td>\n",
       "      <td>True</td>\n",
       "      <td>2</td>\n",
       "      <td>2</td>\n",
       "      <td>4</td>\n",
       "      <td>...</td>\n",
       "      <td>8.4</td>\n",
       "      <td>122.25</td>\n",
       "      <td>111.41</td>\n",
       "      <td>4.0</td>\n",
       "      <td>50.1</td>\n",
       "      <td>107.17</td>\n",
       "      <td>103.55</td>\n",
       "      <td>1.76</td>\n",
       "      <td>0.0</td>\n",
       "      <td>1.76</td>\n",
       "    </tr>\n",
       "    <tr>\n",
       "      <th>465</th>\n",
       "      <td>1203</td>\n",
       "      <td>994273</td>\n",
       "      <td>S500</td>\n",
       "      <td>Q06</td>\n",
       "      <td>M</td>\n",
       "      <td>26-30</td>\n",
       "      <td>True</td>\n",
       "      <td>1</td>\n",
       "      <td>1</td>\n",
       "      <td>4</td>\n",
       "      <td>...</td>\n",
       "      <td>6.0</td>\n",
       "      <td>122.25</td>\n",
       "      <td>111.41</td>\n",
       "      <td>7.0</td>\n",
       "      <td>63.8</td>\n",
       "      <td>110.65</td>\n",
       "      <td>109.73</td>\n",
       "      <td>1.80</td>\n",
       "      <td>1.0</td>\n",
       "      <td>1.76</td>\n",
       "    </tr>\n",
       "  </tbody>\n",
       "</table>\n",
       "<p>466 rows × 583 columns</p>\n",
       "</div>"
      ],
      "text/plain": [
       "     index  Subject Release Acquisition Gender    Age  3T_Full_MR_Compl  \\\n",
       "0        1   100206    S900         Q11      M  26-30              True   \n",
       "1        3   100408      Q3         Q03      M  31-35              True   \n",
       "2        4   100610    S900         Q08      M  26-30              True   \n",
       "3        6   101107    S500         Q06      M  22-25              True   \n",
       "4        8   101309    S500         Q06      M  26-30              True   \n",
       "..     ...      ...     ...         ...    ...    ...               ...   \n",
       "461   1197   989987   S1200         Q13      M  31-35              True   \n",
       "462   1198   990366    S900         Q10      M  22-25              True   \n",
       "463   1199   991267    S500         Q06      M  26-30              True   \n",
       "464   1201   992774      Q2         Q02      M  31-35              True   \n",
       "465   1203   994273    S500         Q06      M  26-30              True   \n",
       "\n",
       "     T1_Count  T2_Count  3T_RS-fMRI_Count  ...  Noise_Comp  Odor_Unadj  \\\n",
       "0           1         1                 4  ...         6.0      108.79   \n",
       "1           1         1                 4  ...         2.0      108.79   \n",
       "2           2         1                 4  ...         2.0      122.25   \n",
       "3           2         2                 4  ...         6.8      108.79   \n",
       "4           1         1                 4  ...         5.2      122.25   \n",
       "..        ...       ...               ...  ...         ...         ...   \n",
       "461         2         2                 4  ...         2.0      101.12   \n",
       "462         2         1                 4  ...         4.4      108.79   \n",
       "463         2         1                 4  ...         2.8      122.25   \n",
       "464         2         2                 4  ...         8.4      122.25   \n",
       "465         1         1                 4  ...         6.0      122.25   \n",
       "\n",
       "     Odor_AgeAdj  PainIntens_RawScore  PainInterf_Tscore  Taste_Unadj  \\\n",
       "0          97.19                  1.0               49.7        72.63   \n",
       "1          98.04                  2.0               52.6       114.01   \n",
       "2         110.45                  0.0               38.6        84.84   \n",
       "3          97.19                  1.0               50.1       134.65   \n",
       "4         110.45                  0.0               38.6       106.39   \n",
       "..           ...                  ...                ...          ...   \n",
       "461        87.11                  4.0               52.6        98.31   \n",
       "462        97.19                  1.0               52.6        93.82   \n",
       "463       111.41                  1.0               46.6        83.23   \n",
       "464       111.41                  4.0               50.1       107.17   \n",
       "465       111.41                  7.0               63.8       110.65   \n",
       "\n",
       "     Taste_AgeAdj  Mars_Log_Score  Mars_Errs  Mars_Final  \n",
       "0           72.03            1.84        0.0        1.84  \n",
       "1          113.59            1.76        2.0        1.68  \n",
       "2           85.31            1.92        1.0        1.88  \n",
       "3          131.38            1.84        0.0        1.84  \n",
       "4          104.39            1.80        0.0        1.80  \n",
       "..            ...             ...        ...         ...  \n",
       "461         97.68            1.80        0.0        1.80  \n",
       "462         92.63            1.80        0.0        1.80  \n",
       "463         81.55            1.84        0.0        1.84  \n",
       "464        103.55            1.76        0.0        1.76  \n",
       "465        109.73            1.80        1.0        1.76  \n",
       "\n",
       "[466 rows x 583 columns]"
      ]
     },
     "execution_count": 162,
     "metadata": {},
     "output_type": "execute_result"
    }
   ],
   "source": [
    "males"
   ]
  },
  {
   "cell_type": "code",
   "execution_count": 163,
   "metadata": {},
   "outputs": [],
   "source": [
    "males_age = males[standard_columns + age_columns]"
   ]
  },
  {
   "cell_type": "code",
   "execution_count": 164,
   "metadata": {
    "scrolled": false
   },
   "outputs": [
    {
     "data": {
      "image/png": "[encoded data removed]",
      "text/plain": [
       "<Figure size 864x504 with 2 Axes>"
      ]
     },
     "metadata": {
      "needs_background": "light"
     },
     "output_type": "display_data"
    }
   ],
   "source": [
    "fig, ax = plt.subplots(figsize=(12,7))\n",
    "sns.heatmap(males_age.corr(), annot=True, cmap='viridis')\n",
    "plt.tight_layout()"
   ]
  },
  {
   "cell_type": "markdown",
   "metadata": {},
   "source": [
    "Split data into test part and training part"
   ]
  },
  {
   "cell_type": "code",
   "execution_count": 287,
   "metadata": {},
   "outputs": [],
   "source": [
    "#age_list=males['Age'].to_list()"
   ]
  },
  {
   "cell_type": "code",
   "execution_count": 289,
   "metadata": {},
   "outputs": [],
   "source": [
    "#age_tags=[]\n",
    "#for age in age_list:\n",
    "#    if age=='22-25':\n",
    "#        #print(age)\n",
    "#        age_tags.append(1)\n",
    "#    if age=='26-30':\n",
    "#        #print(age)\n",
    "#        age_tags.append(2)\n",
    "#    if age=='31-35':\n",
    "#        #print(age)\n",
    "#        age_tags.append(3)\n",
    "#    if age=='36+':\n",
    "#        age_tags.append(4)\n",
    "    "
   ]
  },
  {
   "cell_type": "code",
   "execution_count": 290,
   "metadata": {},
   "outputs": [],
   "source": [
    "#males[\"Age Groups\"]=age_tags"
   ]
  },
  {
   "cell_type": "code",
   "execution_count": 291,
   "metadata": {},
   "outputs": [],
   "source": [
    "#len(age_tags)"
   ]
  },
  {
   "cell_type": "code",
   "execution_count": 251,
   "metadata": {},
   "outputs": [],
   "source": [
    "# Since there is no age sex and education in this data, I splited based in total cog\n",
    "# Split on age_years:\n",
    "\n",
    "# Organize data into 3 bins\n",
    "bins = np.linspace(50, 150, 6)\n",
    "#bins = np.array([1, 2,3,4])\n",
    "#print(bins)\n",
    "y = males[\"CogTotalComp_AgeAdj\"]\n",
    "y_binned = np.digitize(y, bins)"
   ]
  },
  {
   "cell_type": "code",
   "execution_count": 74,
   "metadata": {},
   "outputs": [],
   "source": [
    "# Not available for HCP Young\n",
    "# Split on years_of_education\n",
    "# \n",
    "#bins2 = np.linspace(16, 20, 3)\n",
    "#print(bins2)\n",
    "#y2 = males['years_of_education']\n",
    "#y_binned2 = np.digitize(y2, bins2)"
   ]
  },
  {
   "cell_type": "code",
   "execution_count": 252,
   "metadata": {},
   "outputs": [],
   "source": [
    "#males['Flanker_AgeAdj'].hist()"
   ]
  },
  {
   "cell_type": "code",
   "execution_count": 253,
   "metadata": {},
   "outputs": [],
   "source": [
    "# Do not split on moca_total_score, because not enough data in dataset (insufficient nr of rows per group)\n",
    "#bins2 = np.linspace(70, 130, 3)\n",
    "# print(bins3)\n",
    "# # Split on years_of_education\n",
    "#y2 = males['Dexterity_AgeAdj']\n",
    "#y_binned2 = np.digitize(y2, bins2)"
   ]
  },
  {
   "cell_type": "code",
   "execution_count": 254,
   "metadata": {},
   "outputs": [],
   "source": [
    "#NO need for HCP YA - since there is only age as criteria\n",
    "#y_stacked = np.vstack((y_binned, y_binned2))\n",
    "#y_stacked = y_stacked.T\n",
    "#y_stacked.shape"
   ]
  },
  {
   "cell_type": "code",
   "execution_count": 221,
   "metadata": {},
   "outputs": [],
   "source": [
    "#y_stacked"
   ]
  },
  {
   "cell_type": "code",
   "execution_count": 255,
   "metadata": {},
   "outputs": [
    {
     "name": "stdout",
     "output_type": "stream",
     "text": [
      "(233, 584)\n",
      "(233, 584)\n"
     ]
    }
   ],
   "source": [
    "# Perform split\n",
    "males_train, males_test = train_test_split(males, stratify=y_binned, test_size=0.5)\n",
    "print(males_train.shape)\n",
    "print(males_train.shape)"
   ]
  },
  {
   "cell_type": "markdown",
   "metadata": {},
   "source": [
    "Check nr non-nan values"
   ]
  },
  {
   "cell_type": "code",
   "execution_count": 256,
   "metadata": {},
   "outputs": [
    {
     "data": {
      "text/html": [
       "<div>\n",
       "<style scoped>\n",
       "    .dataframe tbody tr th:only-of-type {\n",
       "        vertical-align: middle;\n",
       "    }\n",
       "\n",
       "    .dataframe tbody tr th {\n",
       "        vertical-align: top;\n",
       "    }\n",
       "\n",
       "    .dataframe thead th {\n",
       "        text-align: right;\n",
       "    }\n",
       "</style>\n",
       "<table border=\"1\" class=\"dataframe\">\n",
       "  <thead>\n",
       "    <tr style=\"text-align: right;\">\n",
       "      <th></th>\n",
       "      <th>train</th>\n",
       "      <th>test</th>\n",
       "    </tr>\n",
       "  </thead>\n",
       "  <tbody>\n",
       "    <tr>\n",
       "      <th>index</th>\n",
       "      <td>233</td>\n",
       "      <td>233</td>\n",
       "    </tr>\n",
       "    <tr>\n",
       "      <th>Subject</th>\n",
       "      <td>233</td>\n",
       "      <td>233</td>\n",
       "    </tr>\n",
       "    <tr>\n",
       "      <th>Release</th>\n",
       "      <td>233</td>\n",
       "      <td>233</td>\n",
       "    </tr>\n",
       "    <tr>\n",
       "      <th>Acquisition</th>\n",
       "      <td>233</td>\n",
       "      <td>233</td>\n",
       "    </tr>\n",
       "    <tr>\n",
       "      <th>Gender</th>\n",
       "      <td>233</td>\n",
       "      <td>233</td>\n",
       "    </tr>\n",
       "    <tr>\n",
       "      <th>...</th>\n",
       "      <td>...</td>\n",
       "      <td>...</td>\n",
       "    </tr>\n",
       "    <tr>\n",
       "      <th>Taste_AgeAdj</th>\n",
       "      <td>233</td>\n",
       "      <td>233</td>\n",
       "    </tr>\n",
       "    <tr>\n",
       "      <th>Mars_Log_Score</th>\n",
       "      <td>233</td>\n",
       "      <td>233</td>\n",
       "    </tr>\n",
       "    <tr>\n",
       "      <th>Mars_Errs</th>\n",
       "      <td>233</td>\n",
       "      <td>232</td>\n",
       "    </tr>\n",
       "    <tr>\n",
       "      <th>Mars_Final</th>\n",
       "      <td>233</td>\n",
       "      <td>232</td>\n",
       "    </tr>\n",
       "    <tr>\n",
       "      <th>Age Groups</th>\n",
       "      <td>233</td>\n",
       "      <td>233</td>\n",
       "    </tr>\n",
       "  </tbody>\n",
       "</table>\n",
       "<p>584 rows × 2 columns</p>\n",
       "</div>"
      ],
      "text/plain": [
       "                train  test\n",
       "index             233   233\n",
       "Subject           233   233\n",
       "Release           233   233\n",
       "Acquisition       233   233\n",
       "Gender            233   233\n",
       "...               ...   ...\n",
       "Taste_AgeAdj      233   233\n",
       "Mars_Log_Score    233   233\n",
       "Mars_Errs         233   232\n",
       "Mars_Final        233   232\n",
       "Age Groups        233   233\n",
       "\n",
       "[584 rows x 2 columns]"
      ]
     },
     "execution_count": 256,
     "metadata": {},
     "output_type": "execute_result"
    }
   ],
   "source": [
    "non_nan_values = pd.DataFrame()\n",
    "non_nan_values['train'] = males_train.notnull().sum()\n",
    "non_nan_values['test'] = males_test.notnull().sum()\n",
    "non_nan_values"
   ]
  },
  {
   "cell_type": "markdown",
   "metadata": {},
   "source": [
    "Plot data for checking of distributions"
   ]
  },
  {
   "cell_type": "code",
   "execution_count": 292,
   "metadata": {},
   "outputs": [],
   "source": [
    "import scipy.stats as stats\n"
   ]
  },
  {
   "cell_type": "code",
   "execution_count": 258,
   "metadata": {},
   "outputs": [],
   "source": [
    "# I want to check whether there are differences in the features of the individuals\n",
    "def check_groups(feature):\n",
    "    ks=stats.kstest(males_train[feature].dropna(),males_test[feature].dropna())\n",
    "    return ks"
   ]
  },
  {
   "cell_type": "code",
   "execution_count": 259,
   "metadata": {},
   "outputs": [
    {
     "name": "stdout",
     "output_type": "stream",
     "text": [
      "KstestResult(statistic=0.030042918454935622, pvalue=0.9999438170031077)\n",
      "Age\n",
      "KstestResult(statistic=0.07296137339055794, pvalue=0.5655920976363088)\n",
      "PicSeq_AgeAdj\n",
      "KstestResult(statistic=0.06437768240343347, pvalue=0.7209312225703502)\n",
      "CardSort_AgeAdj\n",
      "KstestResult(statistic=0.04721030042918455, pvalue=0.9581573907939733)\n",
      "Flanker_AgeAdj\n",
      "KstestResult(statistic=0.055793991416309016, pvalue=0.8624122159370621)\n",
      "ReadEng_AgeAdj\n",
      "KstestResult(statistic=0.07296137339055794, pvalue=0.5655920976363088)\n",
      "PicVocab_AgeAdj\n",
      "KstestResult(statistic=0.04291845493562232, pvalue=0.9831576807491175)\n",
      "ProcSpeed_AgeAdj\n",
      "KstestResult(statistic=0.06866952789699571, pvalue=0.6431208944482646)\n",
      "ListSort_AgeAdj\n",
      "KstestResult(statistic=0.05627705627705628, pvalue=0.8589340148704577)\n",
      "CogFluidComp_AgeAdj\n",
      "KstestResult(statistic=0.0603448275862069, pvalue=0.7932786218125066)\n",
      "CogEarlyComp_AgeAdj\n",
      "KstestResult(statistic=0.03896103896103896, pvalue=0.994921008754129)\n",
      "CogTotalComp_AgeAdj\n",
      "KstestResult(statistic=0.05847639484978541, pvalue=0.7872669365317573)\n",
      "CogCrystalComp_AgeAdj\n",
      "KstestResult(statistic=0.047783779783927775, pvalue=0.9374548547929841)\n",
      "Endurance_AgeAdj\n",
      "KstestResult(statistic=0.04721030042918455, pvalue=0.9581573907939733)\n",
      "Dexterity_AgeAdj\n",
      "KstestResult(statistic=0.07137043066449608, pvalue=0.5561825824377096)\n",
      "Strength_AgeAdj\n",
      "KstestResult(statistic=0.034334763948497854, pvalue=0.9991985404089968)\n",
      "Odor_AgeAdj\n",
      "KstestResult(statistic=0.1072961373390558, pvalue=0.13683947385638903)\n",
      "Taste_AgeAdj\n"
     ]
    }
   ],
   "source": [
    "for feature in age_columns:\n",
    "    print(check_groups(feature))\n",
    "    print(feature)"
   ]
  },
  {
   "cell_type": "code",
   "execution_count": 260,
   "metadata": {
    "scrolled": false
   },
   "outputs": [
    {
     "data": {
      "image/png": "[encoded data removed]",
      "text/plain": [
       "<Figure size 1080x360 with 2 Axes>"
      ]
     },
     "metadata": {
      "needs_background": "light"
     },
     "output_type": "display_data"
    }
   ],
   "source": [
    "fig, axes = plt.subplots(1, 2, figsize=(15,5))\n",
    "to_plot = 'Endurance_AgeAdj'\n",
    "males_train.hist(to_plot, ax=axes[0])\n",
    "males_test.hist(to_plot, ax=axes[1])\n",
    "plt.show()"
   ]
  },
  {
   "cell_type": "code",
   "execution_count": 109,
   "metadata": {},
   "outputs": [
    {
     "data": {
      "image/png": "[encoded data removed]",
      "text/plain": [
       "<Figure size 1080x360 with 2 Axes>"
      ]
     },
     "metadata": {
      "needs_background": "light"
     },
     "output_type": "display_data"
    }
   ],
   "source": [
    "fig, axes = plt.subplots(1, 2, figsize=(15,5))\n",
    "to_plot = 'Strength_AgeAdj'\n",
    "males_train.hist(to_plot, ax=axes[0])\n",
    "males_test.hist(to_plot, ax=axes[1])\n",
    "plt.show()"
   ]
  },
  {
   "cell_type": "code",
   "execution_count": 261,
   "metadata": {},
   "outputs": [
    {
     "data": {
      "image/png": "[encoded data removed]",
      "text/plain": [
       "<Figure size 1080x360 with 2 Axes>"
      ]
     },
     "metadata": {
      "needs_background": "light"
     },
     "output_type": "display_data"
    }
   ],
   "source": [
    "fig, axes = plt.subplots(1, 2, figsize=(15,5))\n",
    "to_plot = 'PicSeq_AgeAdj'\n",
    "males_train.hist(to_plot, ax=axes[0])\n",
    "males_test.hist(to_plot, ax=axes[1])\n",
    "plt.show()"
   ]
  },
  {
   "cell_type": "code",
   "execution_count": 262,
   "metadata": {},
   "outputs": [],
   "source": [
    "# Test for significant differences between distributions\n",
    "to_test = 'moca_total_score'\n",
    "\n",
    "def mwtest(to_test):\n",
    "    distr1 = males_train[to_test]\n",
    "    distr2 = males_test[to_test]\n",
    "\n",
    "    u_statistic, p_value = stats.mannwhitneyu(distr1, distr2)\n",
    "    #print(f'U: {u_statistic}, \\np: {p_value}')\n",
    "    return print(p_value)"
   ]
  },
  {
   "cell_type": "code",
   "execution_count": 263,
   "metadata": {},
   "outputs": [
    {
     "name": "stdout",
     "output_type": "stream",
     "text": [
      "0.1948396706422143\n",
      "Age\n",
      "0.3074698928541188\n",
      "PicSeq_AgeAdj\n",
      "0.13821162904154255\n",
      "CardSort_AgeAdj\n",
      "0.41985353889471433\n",
      "Flanker_AgeAdj\n",
      "0.37556137774635456\n",
      "ReadEng_AgeAdj\n",
      "0.3338524439699464\n",
      "PicVocab_AgeAdj\n",
      "0.450448088038546\n",
      "ProcSpeed_AgeAdj\n",
      "0.19961472678671455\n",
      "ListSort_AgeAdj\n",
      "0.4931387153159446\n",
      "CogFluidComp_AgeAdj\n",
      "0.3671094219514543\n",
      "CogEarlyComp_AgeAdj\n",
      "0.41461390436417833\n",
      "CogTotalComp_AgeAdj\n",
      "0.3830225600313584\n",
      "CogCrystalComp_AgeAdj\n",
      "0.4958830261809024\n",
      "Endurance_AgeAdj\n",
      "0.486965146021429\n",
      "Dexterity_AgeAdj\n",
      "0.28177990598867797\n",
      "Strength_AgeAdj\n",
      "0.3623911349579362\n",
      "Odor_AgeAdj\n",
      "0.014321421599878028\n",
      "Taste_AgeAdj\n"
     ]
    }
   ],
   "source": [
    "for feature in age_columns:\n",
    "    mwtest(feature)\n",
    "    print(feature)"
   ]
  },
  {
   "cell_type": "markdown",
   "metadata": {},
   "source": [
    "Export data"
   ]
  },
  {
   "cell_type": "code",
   "execution_count": 264,
   "metadata": {},
   "outputs": [],
   "source": [
    "males_train = males_train.reset_index(drop=True)\n",
    "# males_train = males_train.drop(columns=['index'])\n",
    "\n",
    "males_test = males_train.reset_index(drop=True)\n",
    "# males_test = males_test.drop(columns=['index'])"
   ]
  },
  {
   "cell_type": "code",
   "execution_count": 265,
   "metadata": {},
   "outputs": [],
   "source": [
    "males_train.to_csv('Males_train.csv', index=False)\n",
    "males_test.to_csv('Males_test.csv', index=False)"
   ]
  },
  {
   "cell_type": "markdown",
   "metadata": {},
   "source": [
    "# Females"
   ]
  },
  {
   "cell_type": "code",
   "execution_count": 266,
   "metadata": {},
   "outputs": [
    {
     "data": {
      "text/plain": [
       "index             532\n",
       "Subject           532\n",
       "Release           532\n",
       "Acquisition       532\n",
       "Gender            532\n",
       "                 ... \n",
       "Taste_Unadj       527\n",
       "Taste_AgeAdj      527\n",
       "Mars_Log_Score    529\n",
       "Mars_Errs         528\n",
       "Mars_Final        528\n",
       "Length: 583, dtype: int64"
      ]
     },
     "execution_count": 266,
     "metadata": {},
     "output_type": "execute_result"
    }
   ],
   "source": [
    "females.notnull().sum()"
   ]
  },
  {
   "cell_type": "code",
   "execution_count": 270,
   "metadata": {},
   "outputs": [
    {
     "data": {
      "text/plain": [
       "153.36"
      ]
     },
     "execution_count": 270,
     "metadata": {},
     "output_type": "execute_result"
    }
   ],
   "source": [
    "females[\"CogTotalComp_AgeAdj\"].max()"
   ]
  },
  {
   "cell_type": "code",
   "execution_count": 271,
   "metadata": {},
   "outputs": [],
   "source": [
    "bins_f = np.linspace(50, 155, 6)\n",
    "#bins = np.array([1, 2,3,4])\n",
    "#print(bins)\n",
    "y_f = females[\"CogTotalComp_AgeAdj\"]\n",
    "y_f_binned = np.digitize(y_f, bins_f)"
   ]
  },
  {
   "cell_type": "code",
   "execution_count": 272,
   "metadata": {},
   "outputs": [
    {
     "name": "stdout",
     "output_type": "stream",
     "text": [
      "(266, 583)\n",
      "(266, 583)\n"
     ]
    }
   ],
   "source": [
    "# Perform split\n",
    "females_train, females_test = train_test_split(females, stratify=y_f_binned, test_size=0.5)\n",
    "print(females_train.shape)\n",
    "print(females_train.shape)"
   ]
  },
  {
   "cell_type": "code",
   "execution_count": 273,
   "metadata": {},
   "outputs": [],
   "source": [
    "def mwtest_f(to_test):\n",
    "    distr1 = females_train[to_test]\n",
    "    distr2 = females_test[to_test]\n",
    "\n",
    "    u_statistic, p_value = stats.mannwhitneyu(distr1, distr2)\n",
    "    #print(f'U: {u_statistic}, \\np: {p_value}')\n",
    "    return print(p_value)"
   ]
  },
  {
   "cell_type": "code",
   "execution_count": 277,
   "metadata": {},
   "outputs": [],
   "source": [
    "def check_groups_f(feature):\n",
    "    ks=stats.kstest(females_train[feature].dropna(),females_test[feature].dropna())\n",
    "    return print(ks)"
   ]
  },
  {
   "cell_type": "code",
   "execution_count": 274,
   "metadata": {},
   "outputs": [
    {
     "name": "stdout",
     "output_type": "stream",
     "text": [
      "0.1259348597724948\n",
      "Age\n",
      "0.18516128454055025\n",
      "PicSeq_AgeAdj\n",
      "0.2220805569190225\n",
      "CardSort_AgeAdj\n",
      "0.4914491674735314\n",
      "Flanker_AgeAdj\n",
      "0.30742414810718044\n",
      "ReadEng_AgeAdj\n",
      "0.4965119574275686\n",
      "PicVocab_AgeAdj\n",
      "0.4228475052852552\n",
      "ProcSpeed_AgeAdj\n",
      "0.3471413071334465\n",
      "ListSort_AgeAdj\n",
      "0.2408104416938598\n",
      "CogFluidComp_AgeAdj\n",
      "0.26367417301208596\n",
      "CogEarlyComp_AgeAdj\n",
      "0.4949366842504965\n",
      "CogTotalComp_AgeAdj\n",
      "0.30032271380907416\n",
      "CogCrystalComp_AgeAdj\n",
      "0.2823285437337826\n",
      "Endurance_AgeAdj\n",
      "0.4287088543170199\n",
      "Dexterity_AgeAdj\n",
      "0.13039848623551525\n",
      "Strength_AgeAdj\n",
      "0.09912490830760834\n",
      "Odor_AgeAdj\n",
      "0.30492620064613757\n",
      "Taste_AgeAdj\n"
     ]
    }
   ],
   "source": [
    "for feature in age_columns:\n",
    "    mwtest_f(feature)\n",
    "    print(feature)"
   ]
  },
  {
   "cell_type": "code",
   "execution_count": 278,
   "metadata": {},
   "outputs": [
    {
     "name": "stdout",
     "output_type": "stream",
     "text": [
      "KstestResult(statistic=0.06015037593984962, pvalue=0.7227322143526393)\n",
      "Age\n",
      "KstestResult(statistic=0.10150375939849623, pvalue=0.1290878210520827)\n",
      "PicSeq_AgeAdj\n",
      "KstestResult(statistic=0.08532695374800638, pvalue=0.2661795151220986)\n",
      "CardSort_AgeAdj\n",
      "KstestResult(statistic=0.03759398496240601, pvalue=0.9920557841712455)\n",
      "Flanker_AgeAdj\n",
      "KstestResult(statistic=0.05263157894736842, pvalue=0.8558631976802124)\n",
      "ReadEng_AgeAdj\n",
      "KstestResult(statistic=0.045112781954887216, pvalue=0.9501177772609326)\n",
      "PicVocab_AgeAdj\n",
      "KstestResult(statistic=0.05639097744360902, pvalue=0.7925123579714107)\n",
      "ProcSpeed_AgeAdj\n",
      "KstestResult(statistic=0.041353383458646614, pvalue=0.9772435086984248)\n",
      "ListSort_AgeAdj\n",
      "KstestResult(statistic=0.05892084869242156, pvalue=0.719293742882019)\n",
      "CogFluidComp_AgeAdj\n",
      "KstestResult(statistic=0.0917765440666204, pvalue=0.20042996189059392)\n",
      "CogEarlyComp_AgeAdj\n",
      "KstestResult(statistic=0.030534351145038167, pvalue=0.99972418555424)\n",
      "CogTotalComp_AgeAdj\n",
      "KstestResult(statistic=0.04924242424242424, pvalue=0.9069675240815991)\n",
      "CogCrystalComp_AgeAdj\n",
      "KstestResult(statistic=0.05670307845084409, pvalue=0.7574504651582331)\n",
      "Endurance_AgeAdj\n",
      "KstestResult(statistic=0.06766917293233082, pvalue=0.5772285957891641)\n",
      "Dexterity_AgeAdj\n",
      "KstestResult(statistic=0.07518796992481203, pvalue=0.44038808728246975)\n",
      "Strength_AgeAdj\n",
      "KstestResult(statistic=0.07373547505126453, pvalue=0.4364866355053745)\n",
      "Odor_AgeAdj\n",
      "KstestResult(statistic=0.0604493734696817, pvalue=0.6867790073573184)\n",
      "Taste_AgeAdj\n"
     ]
    }
   ],
   "source": [
    "for feature in age_columns:\n",
    "    check_groups_f(feature)\n",
    "    print(feature)"
   ]
  },
  {
   "cell_type": "code",
   "execution_count": 284,
   "metadata": {},
   "outputs": [],
   "source": [
    "females_train = females_train.reset_index(drop=True)\n",
    "# males_train = males_train.drop(columns=['index'])\n",
    "\n",
    "females_test = females_train.reset_index(drop=True)\n",
    "# males_test = males_test.drop(columns=['index'])"
   ]
  },
  {
   "cell_type": "code",
   "execution_count": 293,
   "metadata": {},
   "outputs": [],
   "source": [
    "females_train.to_csv('Females_train.csv', index=False)\n",
    "females_test.to_csv('Females_test.csv', index=False)"
   ]
  },
  {
   "cell_type": "code",
   "execution_count": null,
   "metadata": {},
   "outputs": [],
   "source": []
  }
 ],
 "metadata": {
  "kernelspec": {
   "display_name": "Python 3",
   "language": "python",
   "name": "python3"
  },
  "language_info": {
   "codemirror_mode": {
    "name": "ipython",
    "version": 3
   },
   "file_extension": ".py",
   "mimetype": "text/x-python",
   "name": "python",
   "nbconvert_exporter": "python",
   "pygments_lexer": "ipython3",
   "version": "3.8.5"
  }
 },
 "nbformat": 4,
 "nbformat_minor": 4
}
