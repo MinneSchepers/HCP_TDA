{
 "cells": [
  {
   "cell_type": "markdown",
   "metadata": {},
   "source": [
    "JN by Minne Schepers\n",
    "\n",
    "For splitting the data into males and females, and into training and test group"
   ]
  },
  {
   "cell_type": "code",
   "execution_count": 7,
   "metadata": {},
   "outputs": [],
   "source": [
    "import pandas as pd\n",
    "import matplotlib.pyplot as plt\n",
    "import seaborn as sns\n",
    "import numpy as np\n",
    "from sklearn.model_selection import train_test_split\n",
    "from scipy import stats"
   ]
  },
  {
   "cell_type": "code",
   "execution_count": 8,
   "metadata": {
    "scrolled": false
   },
   "outputs": [],
   "source": [
    "df = pd.read_csv('/Users/minneschepers/Downloads/HCP_Aging_cog.csv')"
   ]
  },
  {
   "cell_type": "markdown",
   "metadata": {},
   "source": [
    "Split into females and females"
   ]
  },
  {
   "cell_type": "code",
   "execution_count": 9,
   "metadata": {},
   "outputs": [
    {
     "name": "stdout",
     "output_type": "stream",
     "text": [
      "(406, 42)\n",
      "(406, 42)\n"
     ]
    }
   ],
   "source": [
    "males = df[df['sex']=='M']\n",
    "males = females.reset_index()\n",
    "females = df[df['sex']=='F']\n",
    "females = females.reset_index()\n",
    "print(females.shape)\n",
    "print(females.shape)"
   ]
  },
  {
   "cell_type": "markdown",
   "metadata": {},
   "source": [
    "# Females"
   ]
  },
  {
   "cell_type": "markdown",
   "metadata": {},
   "source": [
    "Number of rows per column in females:"
   ]
  },
  {
   "cell_type": "code",
   "execution_count": 10,
   "metadata": {
    "scrolled": false
   },
   "outputs": [
    {
     "data": {
      "text/plain": [
       "index                       406\n",
       "subject                     406\n",
       "sex                         406\n",
       "age_months                  406\n",
       "age_years                   406\n",
       "moca_total_score            406\n",
       "years_of_education          406\n",
       "fluidcog_unadjusted         358\n",
       "fluidcog_age                348\n",
       "fluidcog_np                 328\n",
       "crystalcog_unadjusted       358\n",
       "crystalcog_age              348\n",
       "crystalcog_np               328\n",
       "earlychildcog_unadjusted    358\n",
       "earlychildcog_age           348\n",
       "earlychildcog_np            328\n",
       "totalcog_unadjusted         358\n",
       "totalcog_age                348\n",
       "totalcog_np                 328\n",
       "dccs_unadjusted             360\n",
       "dccs_age                    350\n",
       "dccs_np                     152\n",
       "deldisc_auc200              403\n",
       "deldisc_auc40000            403\n",
       "flanker_unadjusted          360\n",
       "flanker_age                 350\n",
       "flanker_np                  152\n",
       "lswmt_unadjusted            360\n",
       "lswmt_age                   350\n",
       "lswmt_np                    152\n",
       "orrt_unadjusted             360\n",
       "orrt_age                    350\n",
       "orrt_np                     152\n",
       "pcps_unadjusted             360\n",
       "pcps_age                    350\n",
       "pcps_np                     152\n",
       "picseq_unadjusted           359\n",
       "picseq_age                  349\n",
       "picseq_np                   151\n",
       "pvt_age                     350\n",
       "pvt_unadjusted              360\n",
       "pvt_np                      152\n",
       "dtype: int64"
      ]
     },
     "execution_count": 10,
     "metadata": {},
     "output_type": "execute_result"
    }
   ],
   "source": [
    "females.notnull().sum()"
   ]
  },
  {
   "cell_type": "code",
   "execution_count": 11,
   "metadata": {
    "scrolled": true
   },
   "outputs": [
    {
     "data": {
      "text/plain": [
       "<AxesSubplot:>"
      ]
     },
     "execution_count": 11,
     "metadata": {},
     "output_type": "execute_result"
    },
    {
     "data": {
      "image/png": "[encoded data removed]",
      "text/plain": [
       "<Figure size 432x288 with 1 Axes>"
      ]
     },
     "metadata": {
      "needs_background": "light"
     },
     "output_type": "display_data"
    }
   ],
   "source": [
    "females['years_of_education'].hist()"
   ]
  },
  {
   "cell_type": "code",
   "execution_count": 12,
   "metadata": {},
   "outputs": [
    {
     "data": {
      "text/plain": [
       "<AxesSubplot:>"
      ]
     },
     "execution_count": 12,
     "metadata": {},
     "output_type": "execute_result"
    },
    {
     "data": {
      "image/png": "[encoded data removed]",
      "text/plain": [
       "<Figure size 432x288 with 1 Axes>"
      ]
     },
     "metadata": {
      "needs_background": "light"
     },
     "output_type": "display_data"
    }
   ],
   "source": [
    "females['age_years'].hist()"
   ]
  },
  {
   "cell_type": "markdown",
   "metadata": {},
   "source": [
    "Show correlation values between cognitive scores in females and age/education/moca scores"
   ]
  },
  {
   "cell_type": "code",
   "execution_count": 13,
   "metadata": {},
   "outputs": [],
   "source": [
    "all_columns = females.columns\n",
    "age_columns = [i for i in all_columns if '_age' in i]\n",
    "standard_columns = ['subject', 'sex', 'age_months', 'age_years', 'moca_total_score',\n",
    "       'years_of_education']"
   ]
  },
  {
   "cell_type": "code",
   "execution_count": 14,
   "metadata": {},
   "outputs": [],
   "source": [
    "females_age = females[standard_columns + age_columns]"
   ]
  },
  {
   "cell_type": "code",
   "execution_count": 15,
   "metadata": {
    "scrolled": false
   },
   "outputs": [
    {
     "data": {
      "image/png": "[encoded data removed]",
      "text/plain": [
       "<Figure size 864x504 with 2 Axes>"
      ]
     },
     "metadata": {
      "needs_background": "light"
     },
     "output_type": "display_data"
    }
   ],
   "source": [
    "fig, ax = plt.subplots(figsize=(12,7))\n",
    "sns.heatmap(females_age.corr(), annot=True, cmap='viridis')\n",
    "plt.tight_layout()"
   ]
  },
  {
   "cell_type": "markdown",
   "metadata": {},
   "source": [
    "Split data into test part and training part"
   ]
  },
  {
   "cell_type": "code",
   "execution_count": 16,
   "metadata": {},
   "outputs": [
    {
     "name": "stdout",
     "output_type": "stream",
     "text": [
      "[ 50.  75. 100.]\n"
     ]
    }
   ],
   "source": [
    "# Split on age_years:\n",
    "\n",
    "# Organize data into 3 bins\n",
    "bins = np.linspace(50, 100, 3)\n",
    "print(bins)\n",
    "y = females['age_years']\n",
    "y_binned = np.digitize(y, bins)"
   ]
  },
  {
   "cell_type": "code",
   "execution_count": 17,
   "metadata": {},
   "outputs": [
    {
     "name": "stdout",
     "output_type": "stream",
     "text": [
      "[16. 18. 20.]\n"
     ]
    }
   ],
   "source": [
    "# Split on years_of_education\n",
    "\n",
    "bins2 = np.linspace(16, 20, 3)\n",
    "print(bins2)\n",
    "y2 = females['years_of_education']\n",
    "y_binned2 = np.digitize(y2, bins2)"
   ]
  },
  {
   "cell_type": "code",
   "execution_count": 18,
   "metadata": {},
   "outputs": [],
   "source": [
    "# Do not split on moca_total_score, because not enough data in dataset (insufficient nr of rows per group)\n",
    "\n",
    "# bins3 = np.linspace(18, 30, 3)\n",
    "# print(bins3)\n",
    "# # Split on years_of_education\n",
    "# y3 = females['moca_total_score']\n",
    "# y_binned3 = np.digitize(y3, bins3)"
   ]
  },
  {
   "cell_type": "code",
   "execution_count": 19,
   "metadata": {},
   "outputs": [
    {
     "data": {
      "text/plain": [
       "(406, 2)"
      ]
     },
     "execution_count": 19,
     "metadata": {},
     "output_type": "execute_result"
    }
   ],
   "source": [
    "y_stacked = np.vstack((y_binned, y_binned2))\n",
    "y_stacked = y_stacked.T\n",
    "y_stacked.shape"
   ]
  },
  {
   "cell_type": "code",
   "execution_count": 20,
   "metadata": {},
   "outputs": [
    {
     "name": "stdout",
     "output_type": "stream",
     "text": [
      "(203, 42)\n",
      "(203, 42)\n"
     ]
    }
   ],
   "source": [
    "# Perform split\n",
    "females_train, females_test = train_test_split(females, stratify=y_binned, test_size=0.5)\n",
    "print(females_train.shape)\n",
    "print(females_train.shape)"
   ]
  },
  {
   "cell_type": "markdown",
   "metadata": {},
   "source": [
    "Check nr non-nan values"
   ]
  },
  {
   "cell_type": "code",
   "execution_count": 21,
   "metadata": {},
   "outputs": [
    {
     "data": {
      "text/html": [
       "<div>\n",
       "<style scoped>\n",
       "    .dataframe tbody tr th:only-of-type {\n",
       "        vertical-align: middle;\n",
       "    }\n",
       "\n",
       "    .dataframe tbody tr th {\n",
       "        vertical-align: top;\n",
       "    }\n",
       "\n",
       "    .dataframe thead th {\n",
       "        text-align: right;\n",
       "    }\n",
       "</style>\n",
       "<table border=\"1\" class=\"dataframe\">\n",
       "  <thead>\n",
       "    <tr style=\"text-align: right;\">\n",
       "      <th></th>\n",
       "      <th>train</th>\n",
       "      <th>test</th>\n",
       "    </tr>\n",
       "  </thead>\n",
       "  <tbody>\n",
       "    <tr>\n",
       "      <th>index</th>\n",
       "      <td>203</td>\n",
       "      <td>203</td>\n",
       "    </tr>\n",
       "    <tr>\n",
       "      <th>subject</th>\n",
       "      <td>203</td>\n",
       "      <td>203</td>\n",
       "    </tr>\n",
       "    <tr>\n",
       "      <th>sex</th>\n",
       "      <td>203</td>\n",
       "      <td>203</td>\n",
       "    </tr>\n",
       "    <tr>\n",
       "      <th>age_months</th>\n",
       "      <td>203</td>\n",
       "      <td>203</td>\n",
       "    </tr>\n",
       "    <tr>\n",
       "      <th>age_years</th>\n",
       "      <td>203</td>\n",
       "      <td>203</td>\n",
       "    </tr>\n",
       "    <tr>\n",
       "      <th>moca_total_score</th>\n",
       "      <td>203</td>\n",
       "      <td>203</td>\n",
       "    </tr>\n",
       "    <tr>\n",
       "      <th>years_of_education</th>\n",
       "      <td>203</td>\n",
       "      <td>203</td>\n",
       "    </tr>\n",
       "    <tr>\n",
       "      <th>fluidcog_unadjusted</th>\n",
       "      <td>182</td>\n",
       "      <td>176</td>\n",
       "    </tr>\n",
       "    <tr>\n",
       "      <th>fluidcog_age</th>\n",
       "      <td>175</td>\n",
       "      <td>173</td>\n",
       "    </tr>\n",
       "    <tr>\n",
       "      <th>fluidcog_np</th>\n",
       "      <td>165</td>\n",
       "      <td>163</td>\n",
       "    </tr>\n",
       "    <tr>\n",
       "      <th>crystalcog_unadjusted</th>\n",
       "      <td>181</td>\n",
       "      <td>177</td>\n",
       "    </tr>\n",
       "    <tr>\n",
       "      <th>crystalcog_age</th>\n",
       "      <td>174</td>\n",
       "      <td>174</td>\n",
       "    </tr>\n",
       "    <tr>\n",
       "      <th>crystalcog_np</th>\n",
       "      <td>164</td>\n",
       "      <td>164</td>\n",
       "    </tr>\n",
       "    <tr>\n",
       "      <th>earlychildcog_unadjusted</th>\n",
       "      <td>182</td>\n",
       "      <td>176</td>\n",
       "    </tr>\n",
       "    <tr>\n",
       "      <th>earlychildcog_age</th>\n",
       "      <td>175</td>\n",
       "      <td>173</td>\n",
       "    </tr>\n",
       "    <tr>\n",
       "      <th>earlychildcog_np</th>\n",
       "      <td>165</td>\n",
       "      <td>163</td>\n",
       "    </tr>\n",
       "    <tr>\n",
       "      <th>totalcog_unadjusted</th>\n",
       "      <td>182</td>\n",
       "      <td>176</td>\n",
       "    </tr>\n",
       "    <tr>\n",
       "      <th>totalcog_age</th>\n",
       "      <td>175</td>\n",
       "      <td>173</td>\n",
       "    </tr>\n",
       "    <tr>\n",
       "      <th>totalcog_np</th>\n",
       "      <td>165</td>\n",
       "      <td>163</td>\n",
       "    </tr>\n",
       "    <tr>\n",
       "      <th>dccs_unadjusted</th>\n",
       "      <td>183</td>\n",
       "      <td>177</td>\n",
       "    </tr>\n",
       "    <tr>\n",
       "      <th>dccs_age</th>\n",
       "      <td>176</td>\n",
       "      <td>174</td>\n",
       "    </tr>\n",
       "    <tr>\n",
       "      <th>dccs_np</th>\n",
       "      <td>79</td>\n",
       "      <td>73</td>\n",
       "    </tr>\n",
       "    <tr>\n",
       "      <th>deldisc_auc200</th>\n",
       "      <td>202</td>\n",
       "      <td>201</td>\n",
       "    </tr>\n",
       "    <tr>\n",
       "      <th>deldisc_auc40000</th>\n",
       "      <td>202</td>\n",
       "      <td>201</td>\n",
       "    </tr>\n",
       "    <tr>\n",
       "      <th>flanker_unadjusted</th>\n",
       "      <td>183</td>\n",
       "      <td>177</td>\n",
       "    </tr>\n",
       "    <tr>\n",
       "      <th>flanker_age</th>\n",
       "      <td>176</td>\n",
       "      <td>174</td>\n",
       "    </tr>\n",
       "    <tr>\n",
       "      <th>flanker_np</th>\n",
       "      <td>79</td>\n",
       "      <td>73</td>\n",
       "    </tr>\n",
       "    <tr>\n",
       "      <th>lswmt_unadjusted</th>\n",
       "      <td>183</td>\n",
       "      <td>177</td>\n",
       "    </tr>\n",
       "    <tr>\n",
       "      <th>lswmt_age</th>\n",
       "      <td>176</td>\n",
       "      <td>174</td>\n",
       "    </tr>\n",
       "    <tr>\n",
       "      <th>lswmt_np</th>\n",
       "      <td>79</td>\n",
       "      <td>73</td>\n",
       "    </tr>\n",
       "    <tr>\n",
       "      <th>orrt_unadjusted</th>\n",
       "      <td>183</td>\n",
       "      <td>177</td>\n",
       "    </tr>\n",
       "    <tr>\n",
       "      <th>orrt_age</th>\n",
       "      <td>176</td>\n",
       "      <td>174</td>\n",
       "    </tr>\n",
       "    <tr>\n",
       "      <th>orrt_np</th>\n",
       "      <td>79</td>\n",
       "      <td>73</td>\n",
       "    </tr>\n",
       "    <tr>\n",
       "      <th>pcps_unadjusted</th>\n",
       "      <td>183</td>\n",
       "      <td>177</td>\n",
       "    </tr>\n",
       "    <tr>\n",
       "      <th>pcps_age</th>\n",
       "      <td>176</td>\n",
       "      <td>174</td>\n",
       "    </tr>\n",
       "    <tr>\n",
       "      <th>pcps_np</th>\n",
       "      <td>79</td>\n",
       "      <td>73</td>\n",
       "    </tr>\n",
       "    <tr>\n",
       "      <th>picseq_unadjusted</th>\n",
       "      <td>183</td>\n",
       "      <td>176</td>\n",
       "    </tr>\n",
       "    <tr>\n",
       "      <th>picseq_age</th>\n",
       "      <td>176</td>\n",
       "      <td>173</td>\n",
       "    </tr>\n",
       "    <tr>\n",
       "      <th>picseq_np</th>\n",
       "      <td>79</td>\n",
       "      <td>72</td>\n",
       "    </tr>\n",
       "    <tr>\n",
       "      <th>pvt_age</th>\n",
       "      <td>176</td>\n",
       "      <td>174</td>\n",
       "    </tr>\n",
       "    <tr>\n",
       "      <th>pvt_unadjusted</th>\n",
       "      <td>183</td>\n",
       "      <td>177</td>\n",
       "    </tr>\n",
       "    <tr>\n",
       "      <th>pvt_np</th>\n",
       "      <td>79</td>\n",
       "      <td>73</td>\n",
       "    </tr>\n",
       "  </tbody>\n",
       "</table>\n",
       "</div>"
      ],
      "text/plain": [
       "                          train  test\n",
       "index                       203   203\n",
       "subject                     203   203\n",
       "sex                         203   203\n",
       "age_months                  203   203\n",
       "age_years                   203   203\n",
       "moca_total_score            203   203\n",
       "years_of_education          203   203\n",
       "fluidcog_unadjusted         182   176\n",
       "fluidcog_age                175   173\n",
       "fluidcog_np                 165   163\n",
       "crystalcog_unadjusted       181   177\n",
       "crystalcog_age              174   174\n",
       "crystalcog_np               164   164\n",
       "earlychildcog_unadjusted    182   176\n",
       "earlychildcog_age           175   173\n",
       "earlychildcog_np            165   163\n",
       "totalcog_unadjusted         182   176\n",
       "totalcog_age                175   173\n",
       "totalcog_np                 165   163\n",
       "dccs_unadjusted             183   177\n",
       "dccs_age                    176   174\n",
       "dccs_np                      79    73\n",
       "deldisc_auc200              202   201\n",
       "deldisc_auc40000            202   201\n",
       "flanker_unadjusted          183   177\n",
       "flanker_age                 176   174\n",
       "flanker_np                   79    73\n",
       "lswmt_unadjusted            183   177\n",
       "lswmt_age                   176   174\n",
       "lswmt_np                     79    73\n",
       "orrt_unadjusted             183   177\n",
       "orrt_age                    176   174\n",
       "orrt_np                      79    73\n",
       "pcps_unadjusted             183   177\n",
       "pcps_age                    176   174\n",
       "pcps_np                      79    73\n",
       "picseq_unadjusted           183   176\n",
       "picseq_age                  176   173\n",
       "picseq_np                    79    72\n",
       "pvt_age                     176   174\n",
       "pvt_unadjusted              183   177\n",
       "pvt_np                       79    73"
      ]
     },
     "execution_count": 21,
     "metadata": {},
     "output_type": "execute_result"
    }
   ],
   "source": [
    "non_nan_values = pd.DataFrame()\n",
    "non_nan_values['train'] = females_train.notnull().sum()\n",
    "non_nan_values['test'] = females_test.notnull().sum()\n",
    "non_nan_values"
   ]
  },
  {
   "cell_type": "markdown",
   "metadata": {},
   "source": [
    "Plot data for checking of distributions"
   ]
  },
  {
   "cell_type": "code",
   "execution_count": 22,
   "metadata": {
    "scrolled": false
   },
   "outputs": [
    {
     "data": {
      "image/png": "[encoded data removed]",
      "text/plain": [
       "<Figure size 1080x360 with 2 Axes>"
      ]
     },
     "metadata": {
      "needs_background": "light"
     },
     "output_type": "display_data"
    }
   ],
   "source": [
    "fig, axes = plt.subplots(1, 2, figsize=(15,5))\n",
    "to_plot = 'years_of_education'\n",
    "females_train.hist(to_plot, ax=axes[0])\n",
    "females_test.hist(to_plot, ax=axes[1])\n",
    "plt.show()"
   ]
  },
  {
   "cell_type": "code",
   "execution_count": 23,
   "metadata": {},
   "outputs": [
    {
     "data": {
      "image/png": "[encoded data removed]",
      "text/plain": [
       "<Figure size 1080x360 with 2 Axes>"
      ]
     },
     "metadata": {
      "needs_background": "light"
     },
     "output_type": "display_data"
    }
   ],
   "source": [
    "fig, axes = plt.subplots(1, 2, figsize=(15,5))\n",
    "to_plot = 'age_years'\n",
    "females_train.hist(to_plot, ax=axes[0])\n",
    "females_test.hist(to_plot, ax=axes[1])\n",
    "plt.show()"
   ]
  },
  {
   "cell_type": "code",
   "execution_count": 24,
   "metadata": {},
   "outputs": [
    {
     "data": {
      "image/png": "[encoded data removed]",
      "text/plain": [
       "<Figure size 1080x360 with 2 Axes>"
      ]
     },
     "metadata": {
      "needs_background": "light"
     },
     "output_type": "display_data"
    }
   ],
   "source": [
    "fig, axes = plt.subplots(1, 2, figsize=(15,5))\n",
    "to_plot = 'moca_total_score'\n",
    "females_train.hist(to_plot, ax=axes[0])\n",
    "females_test.hist(to_plot, ax=axes[1])\n",
    "plt.show()"
   ]
  },
  {
   "cell_type": "code",
   "execution_count": 25,
   "metadata": {},
   "outputs": [
    {
     "name": "stdout",
     "output_type": "stream",
     "text": [
      "U: 20604.5, \n",
      "p: 0.4998299069190555\n"
     ]
    }
   ],
   "source": [
    "# Test for significant differences between distributions\n",
    "to_test = 'moca_total_score'\n",
    "\n",
    "distr1 = females_train[to_test]\n",
    "distr1 = females_test[to_test]\n",
    "\n",
    "u_statistic, p_value = stats.mannwhitneyu(distr1, distr1)\n",
    "print(f'U: {u_statistic}, \\np: {p_value}')"
   ]
  },
  {
   "cell_type": "markdown",
   "metadata": {},
   "source": [
    "Export data"
   ]
  },
  {
   "cell_type": "code",
   "execution_count": 30,
   "metadata": {},
   "outputs": [],
   "source": [
    "females_train = females_train.reset_index(drop=True)\n",
    "# females_train = females_train.drop(columns=['index'])\n",
    "\n",
    "females_test = females_train.reset_index(drop=True)\n",
    "# females_test = females_test.drop(columns=['index'])"
   ]
  },
  {
   "cell_type": "code",
   "execution_count": 31,
   "metadata": {},
   "outputs": [],
   "source": [
    "females_train.to_csv('/Users/minneschepers/Desktop/HCP/Behavioral_Data/females_train.csv', index=False)\n",
    "females_test.to_csv('/Users/minneschepers/Desktop/HCP/Behavioral_Data/females_test.csv', index=False)"
   ]
  },
  {
   "cell_type": "code",
   "execution_count": 33,
   "metadata": {},
   "outputs": [],
   "source": [
    "test = pd.read_csv('/Users/minneschepers/Desktop/HCP/Behavioral_Data/females_train.csv')"
   ]
  },
  {
   "cell_type": "code",
   "execution_count": 35,
   "metadata": {},
   "outputs": [
    {
     "data": {
      "text/html": [
       "<div>\n",
       "<style scoped>\n",
       "    .dataframe tbody tr th:only-of-type {\n",
       "        vertical-align: middle;\n",
       "    }\n",
       "\n",
       "    .dataframe tbody tr th {\n",
       "        vertical-align: top;\n",
       "    }\n",
       "\n",
       "    .dataframe thead th {\n",
       "        text-align: right;\n",
       "    }\n",
       "</style>\n",
       "<table border=\"1\" class=\"dataframe\">\n",
       "  <thead>\n",
       "    <tr style=\"text-align: right;\">\n",
       "      <th></th>\n",
       "      <th>subject</th>\n",
       "      <th>sex</th>\n",
       "      <th>age_months</th>\n",
       "      <th>age_years</th>\n",
       "      <th>moca_total_score</th>\n",
       "      <th>years_of_education</th>\n",
       "      <th>fluidcog_unadjusted</th>\n",
       "      <th>fluidcog_age</th>\n",
       "      <th>fluidcog_np</th>\n",
       "      <th>crystalcog_unadjusted</th>\n",
       "      <th>...</th>\n",
       "      <th>orrt_np</th>\n",
       "      <th>pcps_unadjusted</th>\n",
       "      <th>pcps_age</th>\n",
       "      <th>pcps_np</th>\n",
       "      <th>picseq_unadjusted</th>\n",
       "      <th>picseq_age</th>\n",
       "      <th>picseq_np</th>\n",
       "      <th>pvt_age</th>\n",
       "      <th>pvt_unadjusted</th>\n",
       "      <th>pvt_np</th>\n",
       "    </tr>\n",
       "  </thead>\n",
       "  <tbody>\n",
       "    <tr>\n",
       "      <th>0</th>\n",
       "      <td>HCA6552069</td>\n",
       "      <td>F</td>\n",
       "      <td>609.0</td>\n",
       "      <td>50.0</td>\n",
       "      <td>29</td>\n",
       "      <td>18.0</td>\n",
       "      <td>105.0</td>\n",
       "      <td>108.0</td>\n",
       "      <td>71.0</td>\n",
       "      <td>120.0</td>\n",
       "      <td>...</td>\n",
       "      <td>NaN</td>\n",
       "      <td>107.0</td>\n",
       "      <td>107.0</td>\n",
       "      <td>NaN</td>\n",
       "      <td>109.0</td>\n",
       "      <td>113.0</td>\n",
       "      <td>NaN</td>\n",
       "      <td>124.0</td>\n",
       "      <td>124.0</td>\n",
       "      <td>NaN</td>\n",
       "    </tr>\n",
       "    <tr>\n",
       "      <th>1</th>\n",
       "      <td>HCA8502872</td>\n",
       "      <td>F</td>\n",
       "      <td>973.0</td>\n",
       "      <td>81.0</td>\n",
       "      <td>27</td>\n",
       "      <td>15.0</td>\n",
       "      <td>NaN</td>\n",
       "      <td>NaN</td>\n",
       "      <td>NaN</td>\n",
       "      <td>NaN</td>\n",
       "      <td>...</td>\n",
       "      <td>NaN</td>\n",
       "      <td>NaN</td>\n",
       "      <td>NaN</td>\n",
       "      <td>NaN</td>\n",
       "      <td>NaN</td>\n",
       "      <td>NaN</td>\n",
       "      <td>NaN</td>\n",
       "      <td>NaN</td>\n",
       "      <td>NaN</td>\n",
       "      <td>NaN</td>\n",
       "    </tr>\n",
       "    <tr>\n",
       "      <th>2</th>\n",
       "      <td>HCA8743187</td>\n",
       "      <td>F</td>\n",
       "      <td>640.0</td>\n",
       "      <td>53.0</td>\n",
       "      <td>29</td>\n",
       "      <td>15.0</td>\n",
       "      <td>NaN</td>\n",
       "      <td>NaN</td>\n",
       "      <td>NaN</td>\n",
       "      <td>NaN</td>\n",
       "      <td>...</td>\n",
       "      <td>NaN</td>\n",
       "      <td>NaN</td>\n",
       "      <td>NaN</td>\n",
       "      <td>NaN</td>\n",
       "      <td>NaN</td>\n",
       "      <td>NaN</td>\n",
       "      <td>NaN</td>\n",
       "      <td>NaN</td>\n",
       "      <td>NaN</td>\n",
       "      <td>NaN</td>\n",
       "    </tr>\n",
       "    <tr>\n",
       "      <th>3</th>\n",
       "      <td>HCA6427066</td>\n",
       "      <td>F</td>\n",
       "      <td>798.0</td>\n",
       "      <td>66.0</td>\n",
       "      <td>28</td>\n",
       "      <td>19.0</td>\n",
       "      <td>96.0</td>\n",
       "      <td>101.0</td>\n",
       "      <td>53.0</td>\n",
       "      <td>117.0</td>\n",
       "      <td>...</td>\n",
       "      <td>NaN</td>\n",
       "      <td>97.0</td>\n",
       "      <td>104.0</td>\n",
       "      <td>NaN</td>\n",
       "      <td>95.0</td>\n",
       "      <td>97.0</td>\n",
       "      <td>NaN</td>\n",
       "      <td>121.0</td>\n",
       "      <td>123.0</td>\n",
       "      <td>NaN</td>\n",
       "    </tr>\n",
       "    <tr>\n",
       "      <th>4</th>\n",
       "      <td>HCA7908188</td>\n",
       "      <td>F</td>\n",
       "      <td>674.0</td>\n",
       "      <td>56.0</td>\n",
       "      <td>24</td>\n",
       "      <td>19.0</td>\n",
       "      <td>NaN</td>\n",
       "      <td>NaN</td>\n",
       "      <td>NaN</td>\n",
       "      <td>NaN</td>\n",
       "      <td>...</td>\n",
       "      <td>NaN</td>\n",
       "      <td>NaN</td>\n",
       "      <td>NaN</td>\n",
       "      <td>NaN</td>\n",
       "      <td>NaN</td>\n",
       "      <td>NaN</td>\n",
       "      <td>NaN</td>\n",
       "      <td>NaN</td>\n",
       "      <td>NaN</td>\n",
       "      <td>NaN</td>\n",
       "    </tr>\n",
       "    <tr>\n",
       "      <th>...</th>\n",
       "      <td>...</td>\n",
       "      <td>...</td>\n",
       "      <td>...</td>\n",
       "      <td>...</td>\n",
       "      <td>...</td>\n",
       "      <td>...</td>\n",
       "      <td>...</td>\n",
       "      <td>...</td>\n",
       "      <td>...</td>\n",
       "      <td>...</td>\n",
       "      <td>...</td>\n",
       "      <td>...</td>\n",
       "      <td>...</td>\n",
       "      <td>...</td>\n",
       "      <td>...</td>\n",
       "      <td>...</td>\n",
       "      <td>...</td>\n",
       "      <td>...</td>\n",
       "      <td>...</td>\n",
       "      <td>...</td>\n",
       "      <td>...</td>\n",
       "    </tr>\n",
       "    <tr>\n",
       "      <th>198</th>\n",
       "      <td>HCA9953406</td>\n",
       "      <td>F</td>\n",
       "      <td>567.0</td>\n",
       "      <td>47.0</td>\n",
       "      <td>27</td>\n",
       "      <td>20.0</td>\n",
       "      <td>110.0</td>\n",
       "      <td>114.0</td>\n",
       "      <td>83.0</td>\n",
       "      <td>118.0</td>\n",
       "      <td>...</td>\n",
       "      <td>84.0</td>\n",
       "      <td>109.0</td>\n",
       "      <td>111.0</td>\n",
       "      <td>77.0</td>\n",
       "      <td>110.0</td>\n",
       "      <td>111.0</td>\n",
       "      <td>77.0</td>\n",
       "      <td>124.0</td>\n",
       "      <td>121.0</td>\n",
       "      <td>95.0</td>\n",
       "    </tr>\n",
       "    <tr>\n",
       "      <th>199</th>\n",
       "      <td>HCA9124366</td>\n",
       "      <td>F</td>\n",
       "      <td>670.0</td>\n",
       "      <td>55.0</td>\n",
       "      <td>25</td>\n",
       "      <td>19.0</td>\n",
       "      <td>108.0</td>\n",
       "      <td>113.0</td>\n",
       "      <td>81.0</td>\n",
       "      <td>110.0</td>\n",
       "      <td>...</td>\n",
       "      <td>50.0</td>\n",
       "      <td>101.0</td>\n",
       "      <td>104.0</td>\n",
       "      <td>60.0</td>\n",
       "      <td>116.0</td>\n",
       "      <td>121.0</td>\n",
       "      <td>92.0</td>\n",
       "      <td>113.0</td>\n",
       "      <td>113.0</td>\n",
       "      <td>80.0</td>\n",
       "    </tr>\n",
       "    <tr>\n",
       "      <th>200</th>\n",
       "      <td>HCA8800274</td>\n",
       "      <td>F</td>\n",
       "      <td>499.0</td>\n",
       "      <td>41.0</td>\n",
       "      <td>28</td>\n",
       "      <td>18.0</td>\n",
       "      <td>97.0</td>\n",
       "      <td>89.0</td>\n",
       "      <td>23.0</td>\n",
       "      <td>100.0</td>\n",
       "      <td>...</td>\n",
       "      <td>25.0</td>\n",
       "      <td>109.0</td>\n",
       "      <td>108.0</td>\n",
       "      <td>69.0</td>\n",
       "      <td>95.0</td>\n",
       "      <td>97.0</td>\n",
       "      <td>41.0</td>\n",
       "      <td>95.0</td>\n",
       "      <td>102.0</td>\n",
       "      <td>36.0</td>\n",
       "    </tr>\n",
       "    <tr>\n",
       "      <th>201</th>\n",
       "      <td>HCA7452575</td>\n",
       "      <td>F</td>\n",
       "      <td>858.0</td>\n",
       "      <td>71.0</td>\n",
       "      <td>25</td>\n",
       "      <td>19.0</td>\n",
       "      <td>NaN</td>\n",
       "      <td>NaN</td>\n",
       "      <td>NaN</td>\n",
       "      <td>NaN</td>\n",
       "      <td>...</td>\n",
       "      <td>NaN</td>\n",
       "      <td>NaN</td>\n",
       "      <td>NaN</td>\n",
       "      <td>NaN</td>\n",
       "      <td>NaN</td>\n",
       "      <td>NaN</td>\n",
       "      <td>NaN</td>\n",
       "      <td>NaN</td>\n",
       "      <td>NaN</td>\n",
       "      <td>NaN</td>\n",
       "    </tr>\n",
       "    <tr>\n",
       "      <th>202</th>\n",
       "      <td>HCA8151667</td>\n",
       "      <td>F</td>\n",
       "      <td>937.0</td>\n",
       "      <td>78.0</td>\n",
       "      <td>23</td>\n",
       "      <td>19.0</td>\n",
       "      <td>85.0</td>\n",
       "      <td>105.0</td>\n",
       "      <td>62.0</td>\n",
       "      <td>107.0</td>\n",
       "      <td>...</td>\n",
       "      <td>26.0</td>\n",
       "      <td>99.0</td>\n",
       "      <td>119.0</td>\n",
       "      <td>90.0</td>\n",
       "      <td>104.0</td>\n",
       "      <td>116.0</td>\n",
       "      <td>86.0</td>\n",
       "      <td>110.0</td>\n",
       "      <td>114.0</td>\n",
       "      <td>75.0</td>\n",
       "    </tr>\n",
       "  </tbody>\n",
       "</table>\n",
       "<p>203 rows × 41 columns</p>\n",
       "</div>"
      ],
      "text/plain": [
       "        subject sex  age_months  age_years  moca_total_score  \\\n",
       "0    HCA6552069   F       609.0       50.0                29   \n",
       "1    HCA8502872   F       973.0       81.0                27   \n",
       "2    HCA8743187   F       640.0       53.0                29   \n",
       "3    HCA6427066   F       798.0       66.0                28   \n",
       "4    HCA7908188   F       674.0       56.0                24   \n",
       "..          ...  ..         ...        ...               ...   \n",
       "198  HCA9953406   F       567.0       47.0                27   \n",
       "199  HCA9124366   F       670.0       55.0                25   \n",
       "200  HCA8800274   F       499.0       41.0                28   \n",
       "201  HCA7452575   F       858.0       71.0                25   \n",
       "202  HCA8151667   F       937.0       78.0                23   \n",
       "\n",
       "     years_of_education  fluidcog_unadjusted  fluidcog_age  fluidcog_np  \\\n",
       "0                  18.0                105.0         108.0         71.0   \n",
       "1                  15.0                  NaN           NaN          NaN   \n",
       "2                  15.0                  NaN           NaN          NaN   \n",
       "3                  19.0                 96.0         101.0         53.0   \n",
       "4                  19.0                  NaN           NaN          NaN   \n",
       "..                  ...                  ...           ...          ...   \n",
       "198                20.0                110.0         114.0         83.0   \n",
       "199                19.0                108.0         113.0         81.0   \n",
       "200                18.0                 97.0          89.0         23.0   \n",
       "201                19.0                  NaN           NaN          NaN   \n",
       "202                19.0                 85.0         105.0         62.0   \n",
       "\n",
       "     crystalcog_unadjusted  ...  orrt_np  pcps_unadjusted  pcps_age  pcps_np  \\\n",
       "0                    120.0  ...      NaN            107.0     107.0      NaN   \n",
       "1                      NaN  ...      NaN              NaN       NaN      NaN   \n",
       "2                      NaN  ...      NaN              NaN       NaN      NaN   \n",
       "3                    117.0  ...      NaN             97.0     104.0      NaN   \n",
       "4                      NaN  ...      NaN              NaN       NaN      NaN   \n",
       "..                     ...  ...      ...              ...       ...      ...   \n",
       "198                  118.0  ...     84.0            109.0     111.0     77.0   \n",
       "199                  110.0  ...     50.0            101.0     104.0     60.0   \n",
       "200                  100.0  ...     25.0            109.0     108.0     69.0   \n",
       "201                    NaN  ...      NaN              NaN       NaN      NaN   \n",
       "202                  107.0  ...     26.0             99.0     119.0     90.0   \n",
       "\n",
       "     picseq_unadjusted  picseq_age  picseq_np  pvt_age  pvt_unadjusted  pvt_np  \n",
       "0                109.0       113.0        NaN    124.0           124.0     NaN  \n",
       "1                  NaN         NaN        NaN      NaN             NaN     NaN  \n",
       "2                  NaN         NaN        NaN      NaN             NaN     NaN  \n",
       "3                 95.0        97.0        NaN    121.0           123.0     NaN  \n",
       "4                  NaN         NaN        NaN      NaN             NaN     NaN  \n",
       "..                 ...         ...        ...      ...             ...     ...  \n",
       "198              110.0       111.0       77.0    124.0           121.0    95.0  \n",
       "199              116.0       121.0       92.0    113.0           113.0    80.0  \n",
       "200               95.0        97.0       41.0     95.0           102.0    36.0  \n",
       "201                NaN         NaN        NaN      NaN             NaN     NaN  \n",
       "202              104.0       116.0       86.0    110.0           114.0    75.0  \n",
       "\n",
       "[203 rows x 41 columns]"
      ]
     },
     "execution_count": 35,
     "metadata": {},
     "output_type": "execute_result"
    }
   ],
   "source": [
    "test"
   ]
  }
 ],
 "metadata": {
  "kernelspec": {
   "display_name": "Python 3",
   "language": "python",
   "name": "python3"
  },
  "language_info": {
   "codemirror_mode": {
    "name": "ipython",
    "version": 3
   },
   "file_extension": ".py",
   "mimetype": "text/x-python",
   "name": "python",
   "nbconvert_exporter": "python",
   "pygments_lexer": "ipython3",
   "version": "3.8.5"
  }
 },
 "nbformat": 4,
 "nbformat_minor": 4
}
