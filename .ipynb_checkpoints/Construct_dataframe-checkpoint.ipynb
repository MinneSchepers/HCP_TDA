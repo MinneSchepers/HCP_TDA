{
 "cells": [
  {
   "cell_type": "code",
   "execution_count": 2,
   "metadata": {},
   "outputs": [],
   "source": [
    "import pandas as pd\n",
    "import matplotlib.pyplot as plt\n",
    "import seaborn as sns\n",
    "from IPython.display import Image\n",
    "from scipy import stats\n",
    "from sklearn import linear_model\n",
    "import statsmodels.api as sm\n",
    "import numpy as np\n",
    "from matplotlib.offsetbox import AnchoredText\n",
    "import statsmodels.formula.api as smf"
   ]
  },
  {
   "cell_type": "code",
   "execution_count": 4,
   "metadata": {},
   "outputs": [],
   "source": [
    "tda1 = pd.read_csv(\"/data/KNW/KNW-stage/m.schepers/HCP/TDA_data/TDA_features_HCP_training_20_originalmethod.csv\")\n",
    "tda2 = pd.read_csv(\"/data/KNW/KNW-stage/m.schepers/HCP/TDA_data/TDA_features_HCP_training_20_othermethod.csv\")b"
   ]
  },
  {
   "cell_type": "code",
   "execution_count": 6,
   "metadata": {},
   "outputs": [
    {
     "data": {
      "text/html": [
       "<div>\n",
       "<style scoped>\n",
       "    .dataframe tbody tr th:only-of-type {\n",
       "        vertical-align: middle;\n",
       "    }\n",
       "\n",
       "    .dataframe tbody tr th {\n",
       "        vertical-align: top;\n",
       "    }\n",
       "\n",
       "    .dataframe thead th {\n",
       "        text-align: right;\n",
       "    }\n",
       "</style>\n",
       "<table border=\"1\" class=\"dataframe\">\n",
       "  <thead>\n",
       "    <tr style=\"text-align: right;\">\n",
       "      <th></th>\n",
       "      <th>Subject</th>\n",
       "      <th>Euler_sum</th>\n",
       "      <th>Phase_transition_1</th>\n",
       "      <th>Phase_transition_2</th>\n",
       "      <th>S_entropy_dim0</th>\n",
       "      <th>bc_AUC_dim0</th>\n",
       "      <th>bc_max_dim0</th>\n",
       "      <th>curv_ent_DMN_0.0005</th>\n",
       "      <th>curv_ent_DMN_0.001</th>\n",
       "      <th>curv_ent_DMN_p1high</th>\n",
       "      <th>...</th>\n",
       "      <th>p4cliques_FPN_ent_p2high</th>\n",
       "      <th>p4cliques_FPN_ent_p2low</th>\n",
       "      <th>p4cliques_FPN_sum_p1high</th>\n",
       "      <th>p4cliques_FPN_sum_p1low</th>\n",
       "      <th>p4cliques_FPN_sum_p2high</th>\n",
       "      <th>p4cliques_FPN_sum_p2low</th>\n",
       "      <th>pl_AUC_dim0</th>\n",
       "      <th>top_vec_dim0</th>\n",
       "      <th>total_cliques_sum</th>\n",
       "      <th>triangles_sum</th>\n",
       "    </tr>\n",
       "  </thead>\n",
       "  <tbody>\n",
       "    <tr>\n",
       "      <th>0</th>\n",
       "      <td>HCA7552478</td>\n",
       "      <td>4095.0</td>\n",
       "      <td>NaN</td>\n",
       "      <td>NaN</td>\n",
       "      <td>109.769684</td>\n",
       "      <td>13837.878788</td>\n",
       "      <td>359.0</td>\n",
       "      <td>4.406719</td>\n",
       "      <td>4.404855</td>\n",
       "      <td>4.406719</td>\n",
       "      <td>...</td>\n",
       "      <td>0.0</td>\n",
       "      <td>0.0</td>\n",
       "      <td>0.0</td>\n",
       "      <td>0.0</td>\n",
       "      <td>0.0</td>\n",
       "      <td>0.0</td>\n",
       "      <td>30.899712</td>\n",
       "      <td>0.428545</td>\n",
       "      <td>330159.0</td>\n",
       "      <td>29163.0</td>\n",
       "    </tr>\n",
       "    <tr>\n",
       "      <th>1</th>\n",
       "      <td>HCA8657598</td>\n",
       "      <td>4408.0</td>\n",
       "      <td>NaN</td>\n",
       "      <td>NaN</td>\n",
       "      <td>101.721219</td>\n",
       "      <td>16960.101010</td>\n",
       "      <td>359.0</td>\n",
       "      <td>4.374482</td>\n",
       "      <td>4.378752</td>\n",
       "      <td>4.406719</td>\n",
       "      <td>...</td>\n",
       "      <td>0.0</td>\n",
       "      <td>0.0</td>\n",
       "      <td>0.0</td>\n",
       "      <td>0.0</td>\n",
       "      <td>0.0</td>\n",
       "      <td>0.0</td>\n",
       "      <td>31.652883</td>\n",
       "      <td>0.438990</td>\n",
       "      <td>489630.0</td>\n",
       "      <td>31548.0</td>\n",
       "    </tr>\n",
       "    <tr>\n",
       "      <th>2</th>\n",
       "      <td>HCA9546594</td>\n",
       "      <td>3933.0</td>\n",
       "      <td>NaN</td>\n",
       "      <td>NaN</td>\n",
       "      <td>109.592090</td>\n",
       "      <td>15250.000000</td>\n",
       "      <td>359.0</td>\n",
       "      <td>4.406719</td>\n",
       "      <td>4.403007</td>\n",
       "      <td>4.406719</td>\n",
       "      <td>...</td>\n",
       "      <td>0.0</td>\n",
       "      <td>0.0</td>\n",
       "      <td>0.0</td>\n",
       "      <td>0.0</td>\n",
       "      <td>0.0</td>\n",
       "      <td>0.0</td>\n",
       "      <td>31.673760</td>\n",
       "      <td>0.439280</td>\n",
       "      <td>779941.0</td>\n",
       "      <td>29751.0</td>\n",
       "    </tr>\n",
       "    <tr>\n",
       "      <th>3</th>\n",
       "      <td>HCA7056264</td>\n",
       "      <td>3882.0</td>\n",
       "      <td>NaN</td>\n",
       "      <td>NaN</td>\n",
       "      <td>111.544775</td>\n",
       "      <td>13070.202020</td>\n",
       "      <td>359.0</td>\n",
       "      <td>4.401173</td>\n",
       "      <td>4.369003</td>\n",
       "      <td>4.406719</td>\n",
       "      <td>...</td>\n",
       "      <td>0.0</td>\n",
       "      <td>0.0</td>\n",
       "      <td>0.0</td>\n",
       "      <td>0.0</td>\n",
       "      <td>0.0</td>\n",
       "      <td>0.0</td>\n",
       "      <td>31.130800</td>\n",
       "      <td>0.431750</td>\n",
       "      <td>193140.0</td>\n",
       "      <td>25049.0</td>\n",
       "    </tr>\n",
       "    <tr>\n",
       "      <th>4</th>\n",
       "      <td>HCA9044570</td>\n",
       "      <td>4403.0</td>\n",
       "      <td>NaN</td>\n",
       "      <td>NaN</td>\n",
       "      <td>99.601976</td>\n",
       "      <td>16875.252525</td>\n",
       "      <td>359.0</td>\n",
       "      <td>4.406719</td>\n",
       "      <td>4.385173</td>\n",
       "      <td>4.406719</td>\n",
       "      <td>...</td>\n",
       "      <td>0.0</td>\n",
       "      <td>0.0</td>\n",
       "      <td>0.0</td>\n",
       "      <td>0.0</td>\n",
       "      <td>0.0</td>\n",
       "      <td>0.0</td>\n",
       "      <td>30.307648</td>\n",
       "      <td>0.420333</td>\n",
       "      <td>1952731.0</td>\n",
       "      <td>34420.0</td>\n",
       "    </tr>\n",
       "  </tbody>\n",
       "</table>\n",
       "<p>5 rows × 133 columns</p>\n",
       "</div>"
      ],
      "text/plain": [
       "      Subject  Euler_sum  Phase_transition_1  Phase_transition_2  \\\n",
       "0  HCA7552478     4095.0                 NaN                 NaN   \n",
       "1  HCA8657598     4408.0                 NaN                 NaN   \n",
       "2  HCA9546594     3933.0                 NaN                 NaN   \n",
       "3  HCA7056264     3882.0                 NaN                 NaN   \n",
       "4  HCA9044570     4403.0                 NaN                 NaN   \n",
       "\n",
       "   S_entropy_dim0   bc_AUC_dim0  bc_max_dim0  curv_ent_DMN_0.0005  \\\n",
       "0      109.769684  13837.878788        359.0             4.406719   \n",
       "1      101.721219  16960.101010        359.0             4.374482   \n",
       "2      109.592090  15250.000000        359.0             4.406719   \n",
       "3      111.544775  13070.202020        359.0             4.401173   \n",
       "4       99.601976  16875.252525        359.0             4.406719   \n",
       "\n",
       "   curv_ent_DMN_0.001  curv_ent_DMN_p1high  ...  p4cliques_FPN_ent_p2high  \\\n",
       "0            4.404855             4.406719  ...                       0.0   \n",
       "1            4.378752             4.406719  ...                       0.0   \n",
       "2            4.403007             4.406719  ...                       0.0   \n",
       "3            4.369003             4.406719  ...                       0.0   \n",
       "4            4.385173             4.406719  ...                       0.0   \n",
       "\n",
       "   p4cliques_FPN_ent_p2low  p4cliques_FPN_sum_p1high  p4cliques_FPN_sum_p1low  \\\n",
       "0                      0.0                       0.0                      0.0   \n",
       "1                      0.0                       0.0                      0.0   \n",
       "2                      0.0                       0.0                      0.0   \n",
       "3                      0.0                       0.0                      0.0   \n",
       "4                      0.0                       0.0                      0.0   \n",
       "\n",
       "   p4cliques_FPN_sum_p2high  p4cliques_FPN_sum_p2low  pl_AUC_dim0  \\\n",
       "0                       0.0                      0.0    30.899712   \n",
       "1                       0.0                      0.0    31.652883   \n",
       "2                       0.0                      0.0    31.673760   \n",
       "3                       0.0                      0.0    31.130800   \n",
       "4                       0.0                      0.0    30.307648   \n",
       "\n",
       "   top_vec_dim0  total_cliques_sum  triangles_sum  \n",
       "0      0.428545           330159.0        29163.0  \n",
       "1      0.438990           489630.0        31548.0  \n",
       "2      0.439280           779941.0        29751.0  \n",
       "3      0.431750           193140.0        25049.0  \n",
       "4      0.420333          1952731.0        34420.0  \n",
       "\n",
       "[5 rows x 133 columns]"
      ]
     },
     "execution_count": 6,
     "metadata": {},
     "output_type": "execute_result"
    }
   ],
   "source": [
    "tda1[0:5]"
   ]
  },
  {
   "cell_type": "code",
   "execution_count": null,
   "metadata": {},
   "outputs": [],
   "source": []
  },
  {
   "cell_type": "code",
   "execution_count": null,
   "metadata": {},
   "outputs": [],
   "source": []
  },
  {
   "cell_type": "code",
   "execution_count": 2,
   "metadata": {},
   "outputs": [],
   "source": [
    "tda = pd.read_csv(\"/Users/minneschepers/Desktop/HCP/TDA_data/TDA_features_HCP_Females_Train_MI.csv\")\n",
    "bd = pd.read_csv(\"/Users/minneschepers/Desktop/HCP/Behavioral_Data/Females_train.csv\")"
   ]
  },
  {
   "cell_type": "code",
   "execution_count": 3,
   "metadata": {},
   "outputs": [
    {
     "name": "stdout",
     "output_type": "stream",
     "text": [
      "True    203\n",
      "Name: subject, dtype: int64\n",
      "(203, 41)\n"
     ]
    }
   ],
   "source": [
    "# Only include subjects from bd which are also in tda\n",
    "same = bd['subject'].isin(tda['Subject'])\n",
    "print(same.value_counts())\n",
    "bd.drop(bd[~same].index, inplace = True)\n",
    "print(bd.shape)"
   ]
  },
  {
   "cell_type": "code",
   "execution_count": 4,
   "metadata": {},
   "outputs": [
    {
     "name": "stdout",
     "output_type": "stream",
     "text": [
      "True    203\n",
      "Name: Subject, dtype: int64\n",
      "(203, 128)\n"
     ]
    }
   ],
   "source": [
    "# Only include subjects from tda which are also in bd\n",
    "same = tda['Subject'].isin(bd['subject'])\n",
    "print(same.value_counts())\n",
    "tda.drop(tda[~same].index, inplace = True)\n",
    "print(tda.shape)"
   ]
  },
  {
   "cell_type": "code",
   "execution_count": 5,
   "metadata": {},
   "outputs": [
    {
     "name": "stdout",
     "output_type": "stream",
     "text": [
      "0      HCA6018857\n",
      "1      HCA6030645\n",
      "2      HCA6051047\n",
      "3      HCA6062456\n",
      "4      HCA6086470\n",
      "          ...    \n",
      "198    HCA9914193\n",
      "199    HCA9938814\n",
      "200    HCA9953406\n",
      "201    HCA9956008\n",
      "202    HCA9992517\n",
      "Name: subject, Length: 203, dtype: object\n"
     ]
    }
   ],
   "source": [
    "# Sort bd by subject and reset index before concatenating\n",
    "bd.sort_values(by=['subject'], inplace=True)\n",
    "bd.reset_index(drop=True, inplace=True)\n",
    "print(bd['subject'])"
   ]
  },
  {
   "cell_type": "code",
   "execution_count": 6,
   "metadata": {},
   "outputs": [
    {
     "name": "stdout",
     "output_type": "stream",
     "text": [
      "0      HCA6018857\n",
      "1      HCA6030645\n",
      "2      HCA6051047\n",
      "3      HCA6062456\n",
      "4      HCA6086470\n",
      "          ...    \n",
      "198    HCA9914193\n",
      "199    HCA9938814\n",
      "200    HCA9953406\n",
      "201    HCA9956008\n",
      "202    HCA9992517\n",
      "Name: Subject, Length: 203, dtype: object\n"
     ]
    }
   ],
   "source": [
    "# Sort tda by subject and reset index before concatenating\n",
    "tda.sort_values(by=['Subject'], inplace=True)\n",
    "tda.reset_index(drop=True, inplace=True)\n",
    "print(tda['Subject'])"
   ]
  },
  {
   "cell_type": "code",
   "execution_count": 7,
   "metadata": {},
   "outputs": [
    {
     "name": "stdout",
     "output_type": "stream",
     "text": [
      "(203, 41)\n",
      "(203, 128)\n",
      "(203, 169)\n"
     ]
    }
   ],
   "source": [
    "# Concatenate bd and tda into df\n",
    "print(bd.shape)\n",
    "print(tda.shape)\n",
    "df = pd.concat([bd, tda], axis=1)\n",
    "print(df.shape)"
   ]
  },
  {
   "cell_type": "code",
   "execution_count": 8,
   "metadata": {},
   "outputs": [],
   "source": [
    "# Create EF (executive functioning column) as mean of flanker and dccs\n",
    "df['EF_age'] = df[['flanker_age', 'dccs_age']].mean(axis=1)\n",
    "df['EF_unadjusted'] = df[['flanker_unadjusted', 'dccs_unadjusted']].mean(axis=1)\n",
    "\n",
    "# Order bd columns in lists\n",
    "age_adjusted = [i for i in bd.columns if '_age' in i]\n",
    "age_adjusted.append('EF_age')\n",
    "age_adjusted.append('age_years')\n",
    "unadjusted = [i for i in bd.columns if '_unadjusted' in i]\n",
    "unadjusted.append('EF_unadjusted')\n",
    "natper = [i for i in bd.columns if '_np' in i]\n",
    "subject_information = ['subject',  'sex', 'age_months']\n",
    "WM = ['lswmt_unadjusted', 'lswmt_age']\n",
    "EF = ['dccs_unadjusted', 'dccs_age',\n",
    "       'flanker_unadjusted', 'flanker_age',\n",
    "      'EF_unadjusted', 'EF_age']"
   ]
  },
  {
   "cell_type": "code",
   "execution_count": 9,
   "metadata": {},
   "outputs": [],
   "source": [
    "# Order tda columns in lists\n",
    "tda_features = tda.columns[1:]\n",
    "\n",
    "DMN_curvatures = [i for i in tda_features if 'DMN' in i if 'curv' in i]\n",
    "FPN_curvatures = [i for i in tda_features if 'FPN' in i if 'curv' in i]\n",
    "all_curvatures = [i for i in tda_features if 'all' in i if 'curv' in i]\n",
    "p3_cliques = [i for i in tda_features if 'p3cliques' in i]\n",
    "p4_cliques = [i for i in tda_features if 'p4cliques' in i]\n",
    "global_features = [i for i in tda_features if i not in DMN_curvatures if i not in FPN_curvatures if i not in all_curvatures if i not in p3_cliques if i not in p4_cliques]\n",
    "\n",
    "WM_age = ['lswmt_age']\n",
    "EF_age = ['dccs_age', 'flanker_age', 'EF_age']\n",
    "all_kur = [i for i in tda_features if 'kur' in i]\n",
    "all_skew = [i for i in tda_features if 'skew' in i]\n",
    "all_std = [i for i in tda_features if 'std' in i]\n",
    "all_ent = [i for i in tda_features if 'curv_ent' in i]"
   ]
  },
  {
   "cell_type": "code",
   "execution_count": 10,
   "metadata": {},
   "outputs": [],
   "source": [
    "to_include = age_adjusted + unadjusted"
   ]
  },
  {
   "cell_type": "code",
   "execution_count": 11,
   "metadata": {},
   "outputs": [
    {
     "name": "stdout",
     "output_type": "stream",
     "text": [
      "(203, 26)\n"
     ]
    },
    {
     "name": "stderr",
     "output_type": "stream",
     "text": [
      "<ipython-input-11-3ffb2cdb13d0>:3: SettingWithCopyWarning: \n",
      "A value is trying to be set on a copy of a slice from a DataFrame.\n",
      "Try using .loc[row_indexer,col_indexer] = value instead\n",
      "\n",
      "See the caveats in the documentation: https://pandas.pydata.org/pandas-docs/stable/user_guide/indexing.html#returning-a-view-versus-a-copy\n",
      "  df_no_nan['subject'] = list(df['subject'])\n",
      "<ipython-input-11-3ffb2cdb13d0>:4: SettingWithCopyWarning: \n",
      "A value is trying to be set on a copy of a slice from a DataFrame.\n",
      "Try using .loc[row_indexer,col_indexer] = value instead\n",
      "\n",
      "See the caveats in the documentation: https://pandas.pydata.org/pandas-docs/stable/user_guide/indexing.html#returning-a-view-versus-a-copy\n",
      "  df_no_nan['EF_unadjusted'] = list(df['EF_unadjusted'])\n"
     ]
    }
   ],
   "source": [
    "# Only include age_adjusted, and then add subject column\n",
    "df_no_nan = df[to_include]\n",
    "df_no_nan['subject'] = list(df['subject'])\n",
    "df_no_nan['EF_unadjusted'] = list(df['EF_unadjusted'])\n",
    "print(df_no_nan.shape)"
   ]
  },
  {
   "cell_type": "code",
   "execution_count": 12,
   "metadata": {},
   "outputs": [
    {
     "data": {
      "text/plain": [
       "fluidcog_age                175\n",
       "crystalcog_age              174\n",
       "earlychildcog_age           175\n",
       "totalcog_age                175\n",
       "dccs_age                    176\n",
       "flanker_age                 176\n",
       "lswmt_age                   176\n",
       "orrt_age                    176\n",
       "pcps_age                    176\n",
       "picseq_age                  176\n",
       "pvt_age                     176\n",
       "EF_age                      176\n",
       "age_years                   203\n",
       "fluidcog_unadjusted         182\n",
       "crystalcog_unadjusted       181\n",
       "earlychildcog_unadjusted    182\n",
       "totalcog_unadjusted         182\n",
       "dccs_unadjusted             183\n",
       "flanker_unadjusted          183\n",
       "lswmt_unadjusted            183\n",
       "orrt_unadjusted             183\n",
       "pcps_unadjusted             183\n",
       "picseq_unadjusted           183\n",
       "pvt_unadjusted              183\n",
       "EF_unadjusted               183\n",
       "subject                     203\n",
       "dtype: int64"
      ]
     },
     "execution_count": 12,
     "metadata": {},
     "output_type": "execute_result"
    }
   ],
   "source": [
    "# Show number of non_nan_values per column\n",
    "df_no_nan.count()"
   ]
  },
  {
   "cell_type": "code",
   "execution_count": 13,
   "metadata": {},
   "outputs": [],
   "source": [
    "# Drop all nan values\n",
    "df_no_nan = df_no_nan.dropna()"
   ]
  },
  {
   "cell_type": "code",
   "execution_count": 14,
   "metadata": {},
   "outputs": [],
   "source": [
    "# Add tda data to df_no_nan\n",
    "same = tda['Subject'].isin(df_no_nan['subject'])\n",
    "tda.drop(tda[~same].index, inplace = True)"
   ]
  },
  {
   "cell_type": "code",
   "execution_count": 15,
   "metadata": {},
   "outputs": [
    {
     "name": "stdout",
     "output_type": "stream",
     "text": [
      "(173, 26)\n",
      "(173, 128)\n",
      "(173, 154)\n"
     ]
    }
   ],
   "source": [
    "# Sort tda data and reset index\n",
    "tda.sort_values(by=['Subject'], inplace=True)\n",
    "tda.reset_index(drop=True, inplace=True)\n",
    "# Sort df and reset index\n",
    "df_no_nan.sort_values(by=['subject'], inplace=True)\n",
    "df_no_nan.reset_index(drop=True, inplace=True)\n",
    "\n",
    "# Merge dataframes\n",
    "print(df_no_nan.shape)\n",
    "print(tda.shape)\n",
    "df_no_nan = pd.concat([df_no_nan, tda], axis=1)\n",
    "print(df_no_nan.shape)"
   ]
  },
  {
   "cell_type": "code",
   "execution_count": 16,
   "metadata": {},
   "outputs": [],
   "source": [
    "df_no_nan.to_csv('/Users/minneschepers/Desktop/HCP/Data/Females_MI_exp.csv', index=False)"
   ]
  },
  {
   "cell_type": "code",
   "execution_count": 17,
   "metadata": {},
   "outputs": [
    {
     "data": {
      "text/plain": [
       "(173, 154)"
      ]
     },
     "execution_count": 17,
     "metadata": {},
     "output_type": "execute_result"
    }
   ],
   "source": [
    "test = pd.read_csv('/Users/minneschepers/Desktop/HCP/Data/Females_MI_exp.csv')\n",
    "test.shape"
   ]
  }
 ],
 "metadata": {
  "kernelspec": {
   "display_name": "Python 3",
   "language": "python",
   "name": "python3"
  },
  "language_info": {
   "codemirror_mode": {
    "name": "ipython",
    "version": 3
   },
   "file_extension": ".py",
   "mimetype": "text/x-python",
   "name": "python",
   "nbconvert_exporter": "python",
   "pygments_lexer": "ipython3",
   "version": "3.8.3"
  }
 },
 "nbformat": 4,
 "nbformat_minor": 4
}
