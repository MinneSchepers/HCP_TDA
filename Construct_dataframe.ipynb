{
 "cells": [
  {
   "cell_type": "code",
   "execution_count": 2,
   "metadata": {},
   "outputs": [],
   "source": [
    "import pandas as pd"
   ]
  },
  {
   "cell_type": "code",
   "execution_count": 11,
   "metadata": {},
   "outputs": [
    {
     "name": "stdout",
     "output_type": "stream",
     "text": [
      "(361, 459)\n"
     ]
    }
   ],
   "source": [
    "tda = pd.read_csv('/mnt/resource/m.schepers/Data/TDA_Data/Training_data_run1.csv')\n",
    "print(tda.shape)"
   ]
  },
  {
   "cell_type": "code",
   "execution_count": null,
   "metadata": {},
   "outputs": [],
   "source": []
  },
  {
   "cell_type": "code",
   "execution_count": 1,
   "metadata": {},
   "outputs": [],
   "source": [
    "import pandas as pd\n",
    "import matplotlib.pyplot as plt\n",
    "import seaborn as sns\n",
    "from IPython.display import Image\n",
    "from scipy import stats\n",
    "from sklearn import linear_model\n",
    "import statsmodels.api as sm\n",
    "import numpy as np\n",
    "from matplotlib.offsetbox import AnchoredText\n",
    "import statsmodels.formula.api as smf"
   ]
  },
  {
   "cell_type": "code",
   "execution_count": 2,
   "metadata": {},
   "outputs": [],
   "source": [
    "bd = pd.read_csv('/mnt/resource/m.schepers/Data/Cog_Data/Cog_Females_train.csv')\n",
    "tda = pd.read_csv('/mnt/resource/m.schepers/Data/TDA_Data/Training_data_run1.csv')"
   ]
  },
  {
   "cell_type": "code",
   "execution_count": 4,
   "metadata": {},
   "outputs": [
    {
     "name": "stdout",
     "output_type": "stream",
     "text": [
      "True    203\n",
      "Name: Subject, dtype: int64\n",
      "(203, 459)\n"
     ]
    }
   ],
   "source": [
    "# Only include subjects from tda which are also in bd\n",
    "same = tda['Subject'].isin(bd['subject'])\n",
    "print(same.value_counts())\n",
    "tda.drop(tda[~same].index, inplace = True)\n",
    "print(tda.shape)\n",
    "tda.sort_values(by=['Subject'], inplace=True)\n",
    "tda.reset_index(drop=True, inplace=True)"
   ]
  },
  {
   "cell_type": "code",
   "execution_count": 8,
   "metadata": {},
   "outputs": [
    {
     "name": "stdout",
     "output_type": "stream",
     "text": [
      "True    203\n",
      "Name: subject, dtype: int64\n",
      "(203, 41)\n"
     ]
    }
   ],
   "source": [
    "# Only include subjects from bd which are also in tda\n",
    "same = bd['subject'].isin(tda['Subject'])\n",
    "print(same.value_counts())\n",
    "bd.drop(bd[~same].index, inplace = True)\n",
    "print(bd.shape)\n",
    "bd.sort_values(by=['subject'], inplace=True)\n",
    "bd.reset_index(drop=True, inplace=True)"
   ]
  },
  {
   "cell_type": "code",
   "execution_count": 9,
   "metadata": {},
   "outputs": [
    {
     "name": "stdout",
     "output_type": "stream",
     "text": [
      "(203, 41)\n",
      "(203, 459)\n",
      "(203, 500)\n"
     ]
    }
   ],
   "source": [
    "# Concatenate bd and tda into df\n",
    "print(bd.shape)\n",
    "print(tda.shape)\n",
    "df = pd.concat([bd, tda], axis=1)\n",
    "print(df.shape)"
   ]
  },
  {
   "cell_type": "code",
   "execution_count": 10,
   "metadata": {},
   "outputs": [],
   "source": [
    "# Create EF (executive functioning column) as mean of flanker and dccs\n",
    "df['EF_age'] = df[['flanker_age', 'dccs_age']].mean(axis=1)\n",
    "df['EF_unadjusted'] = df[['flanker_unadjusted', 'dccs_unadjusted']].mean(axis=1)\n",
    "\n",
    "# Order bd columns in lists\n",
    "age_adjusted = [i for i in bd.columns if '_age' in i]\n",
    "age_adjusted.append('EF_age')\n",
    "age_adjusted.append('age_years')\n",
    "unadjusted = [i for i in bd.columns if '_unadjusted' in i]\n",
    "unadjusted.append('EF_unadjusted')\n",
    "natper = [i for i in bd.columns if '_np' in i]\n",
    "subject_information = ['subject',  'sex', 'age_months']\n",
    "WM = ['lswmt_unadjusted', 'lswmt_age']\n",
    "EF = ['dccs_unadjusted', 'dccs_age',\n",
    "       'flanker_unadjusted', 'flanker_age',\n",
    "      'EF_unadjusted', 'EF_age']"
   ]
  },
  {
   "cell_type": "code",
   "execution_count": 11,
   "metadata": {},
   "outputs": [],
   "source": [
    "# Order tda columns in lists\n",
    "tda_features = tda.columns[1:]\n",
    "\n",
    "DMN_curvatures = [i for i in tda_features if 'DMN' in i if 'curv' in i]\n",
    "FPN_curvatures = [i for i in tda_features if 'FPN' in i if 'curv' in i]\n",
    "all_curvatures = [i for i in tda_features if 'all' in i if 'curv' in i]\n",
    "p3_cliques = [i for i in tda_features if 'p3cliques' in i]\n",
    "p4_cliques = [i for i in tda_features if 'p4cliques' in i]\n",
    "global_features = [i for i in tda_features if i not in DMN_curvatures if i not in FPN_curvatures if i not in all_curvatures if i not in p3_cliques if i not in p4_cliques]\n",
    "\n",
    "WM_age = ['lswmt_age']\n",
    "EF_age = ['dccs_age', 'flanker_age', 'EF_age']\n",
    "all_kur = [i for i in tda_features if 'kur' in i]\n",
    "all_skew = [i for i in tda_features if 'skew' in i]\n",
    "all_std = [i for i in tda_features if 'std' in i]\n",
    "all_ent = [i for i in tda_features if 'curv_ent' in i]"
   ]
  },
  {
   "cell_type": "code",
   "execution_count": 12,
   "metadata": {},
   "outputs": [],
   "source": [
    "to_include = age_adjusted + unadjusted"
   ]
  },
  {
   "cell_type": "code",
   "execution_count": 13,
   "metadata": {},
   "outputs": [
    {
     "name": "stdout",
     "output_type": "stream",
     "text": [
      "(203, 26)\n"
     ]
    },
    {
     "name": "stderr",
     "output_type": "stream",
     "text": [
      "<ipython-input-13-3ffb2cdb13d0>:3: SettingWithCopyWarning: \n",
      "A value is trying to be set on a copy of a slice from a DataFrame.\n",
      "Try using .loc[row_indexer,col_indexer] = value instead\n",
      "\n",
      "See the caveats in the documentation: https://pandas.pydata.org/pandas-docs/stable/user_guide/indexing.html#returning-a-view-versus-a-copy\n",
      "  df_no_nan['subject'] = list(df['subject'])\n",
      "<ipython-input-13-3ffb2cdb13d0>:4: SettingWithCopyWarning: \n",
      "A value is trying to be set on a copy of a slice from a DataFrame.\n",
      "Try using .loc[row_indexer,col_indexer] = value instead\n",
      "\n",
      "See the caveats in the documentation: https://pandas.pydata.org/pandas-docs/stable/user_guide/indexing.html#returning-a-view-versus-a-copy\n",
      "  df_no_nan['EF_unadjusted'] = list(df['EF_unadjusted'])\n"
     ]
    }
   ],
   "source": [
    "# Only include age_adjusted, and then add subject column\n",
    "df_no_nan = df[to_include]\n",
    "df_no_nan['subject'] = list(df['subject'])\n",
    "df_no_nan['EF_unadjusted'] = list(df['EF_unadjusted'])\n",
    "print(df_no_nan.shape)"
   ]
  },
  {
   "cell_type": "code",
   "execution_count": 14,
   "metadata": {},
   "outputs": [
    {
     "data": {
      "text/plain": [
       "fluidcog_age                175\n",
       "crystalcog_age              174\n",
       "earlychildcog_age           175\n",
       "totalcog_age                175\n",
       "dccs_age                    176\n",
       "flanker_age                 176\n",
       "lswmt_age                   176\n",
       "orrt_age                    176\n",
       "pcps_age                    176\n",
       "picseq_age                  176\n",
       "pvt_age                     176\n",
       "EF_age                      176\n",
       "age_years                   203\n",
       "fluidcog_unadjusted         182\n",
       "crystalcog_unadjusted       181\n",
       "earlychildcog_unadjusted    182\n",
       "totalcog_unadjusted         182\n",
       "dccs_unadjusted             183\n",
       "flanker_unadjusted          183\n",
       "lswmt_unadjusted            183\n",
       "orrt_unadjusted             183\n",
       "pcps_unadjusted             183\n",
       "picseq_unadjusted           183\n",
       "pvt_unadjusted              183\n",
       "EF_unadjusted               183\n",
       "subject                     203\n",
       "dtype: int64"
      ]
     },
     "execution_count": 14,
     "metadata": {},
     "output_type": "execute_result"
    }
   ],
   "source": [
    "# Show number of non_nan_values per column\n",
    "df_no_nan.count()"
   ]
  },
  {
   "cell_type": "code",
   "execution_count": 15,
   "metadata": {},
   "outputs": [],
   "source": [
    "# Drop all nan values\n",
    "df_no_nan = df_no_nan.dropna()"
   ]
  },
  {
   "cell_type": "code",
   "execution_count": 16,
   "metadata": {},
   "outputs": [],
   "source": [
    "# Add tda data to df_no_nan\n",
    "same = tda['Subject'].isin(df_no_nan['subject'])\n",
    "tda.drop(tda[~same].index, inplace = True)"
   ]
  },
  {
   "cell_type": "code",
   "execution_count": 17,
   "metadata": {},
   "outputs": [
    {
     "name": "stdout",
     "output_type": "stream",
     "text": [
      "(173, 26)\n",
      "(173, 459)\n",
      "(173, 485)\n"
     ]
    }
   ],
   "source": [
    "# Sort tda data and reset index\n",
    "tda.sort_values(by=['Subject'], inplace=True)\n",
    "tda.reset_index(drop=True, inplace=True)\n",
    "# Sort df and reset index\n",
    "df_no_nan.sort_values(by=['subject'], inplace=True)\n",
    "df_no_nan.reset_index(drop=True, inplace=True)\n",
    "\n",
    "# Merge dataframes\n",
    "print(df_no_nan.shape)\n",
    "print(tda.shape)\n",
    "df_no_nan = pd.concat([df_no_nan, tda], axis=1)\n",
    "print(df_no_nan.shape)"
   ]
  },
  {
   "cell_type": "code",
   "execution_count": 18,
   "metadata": {},
   "outputs": [],
   "source": [
    "df_no_nan.to_csv('/mnt/resource/m.schepers/Data/TDA_Cog_Data/Females_train.csv', index=False)"
   ]
  },
  {
   "cell_type": "code",
   "execution_count": 19,
   "metadata": {},
   "outputs": [
    {
     "data": {
      "text/plain": [
       "(173, 485)"
      ]
     },
     "execution_count": 19,
     "metadata": {},
     "output_type": "execute_result"
    }
   ],
   "source": [
    "test = pd.read_csv('/mnt/resource/m.schepers/Data/TDA_Cog_Data/Females_train.csv')\n",
    "test.shape"
   ]
  }
 ],
 "metadata": {
  "kernelspec": {
   "display_name": "Python 3",
   "language": "python",
   "name": "python3"
  },
  "language_info": {
   "codemirror_mode": {
    "name": "ipython",
    "version": 3
   },
   "file_extension": ".py",
   "mimetype": "text/x-python",
   "name": "python",
   "nbconvert_exporter": "python",
   "pygments_lexer": "ipython3",
   "version": "3.8.3"
  }
 },
 "nbformat": 4,
 "nbformat_minor": 4
}
